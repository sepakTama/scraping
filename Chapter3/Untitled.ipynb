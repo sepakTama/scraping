{
 "cells": [
  {
   "cell_type": "markdown",
   "metadata": {},
   "source": [
    "# Webのデータは様々なデータフォーマット"
   ]
  },
  {
   "cell_type": "markdown",
   "metadata": {},
   "source": [
    "## テキストデータとバイナリデータ"
   ]
  },
  {
   "cell_type": "code",
   "execution_count": 1,
   "metadata": {},
   "outputs": [],
   "source": [
    "# ファイル名とデータ\n",
    "filename = \"a.bin\"\n",
    "data = 100\n",
    "# 書き込み\n",
    "with open(filename, \"wb\") as f:\n",
    "    f.write(bytearray([data]))"
   ]
  },
  {
   "cell_type": "code",
   "execution_count": 2,
   "metadata": {},
   "outputs": [
    {
     "name": "stdout",
     "output_type": "stream",
     "text": [
      "0000000 31 30 30                                       \r\n",
      "0000003\r\n"
     ]
    }
   ],
   "source": [
    "!hexdump a.txt"
   ]
  },
  {
   "cell_type": "code",
   "execution_count": 3,
   "metadata": {},
   "outputs": [
    {
     "name": "stdout",
     "output_type": "stream",
     "text": [
      "0000000 64                                             \r\n",
      "0000001\r\n"
     ]
    }
   ],
   "source": [
    "!hexdump a.bin"
   ]
  },
  {
   "cell_type": "markdown",
   "metadata": {},
   "source": [
    "データの種類\n",
    "\n",
    "|データの種類|説明|\n",
    "|:--|:--|\n",
    "|テキストデータ|[長所]テキストエディタがあれば編集できる。また、説明を含めることができるので可読性が高い<br>[短所]バイナリデータに比べサイズが大きくなる|\n",
    "|バイナリデータについて|[長所]テクストデータに比べてサイズが小さくなる<br>[短所]テキストエディタでは編集できない<br>[短所]何バイト目になんのデータを指定するのか定義が必要|"
   ]
  },
  {
   "cell_type": "markdown",
   "metadata": {},
   "source": [
    "### テキストデータにおける注意点"
   ]
  },
  {
   "cell_type": "markdown",
   "metadata": {},
   "source": [
    "文字エンコーディングが異なれば、全く異なるデータが異なる"
   ]
  },
  {
   "cell_type": "markdown",
   "metadata": {},
   "source": [
    "## XMLの解析"
   ]
  },
  {
   "cell_type": "markdown",
   "metadata": {},
   "source": [
    "次のリストはXMLの基本的な構造を示したもの  \n",
    "<要素名　属性=\"属性値\">内容</要素名>  \n",
    "例：  \n",
    "<商品　id=\"S001\" 値段=\"4500\">SDカード</商品>  "
   ]
  },
  {
   "cell_type": "markdown",
   "metadata": {},
   "source": [
    "### PythonでXMLの解析-地域防災拠点データを読む"
   ]
  },
  {
   "cell_type": "markdown",
   "metadata": {},
   "source": [
    "データ  \n",
    "横浜市 > 総務局 > 防災関連データ  \n",
    "http://www.city.yokohama.lg.jp/somu/org/kikikanri/data/"
   ]
  },
  {
   "cell_type": "code",
   "execution_count": 4,
   "metadata": {},
   "outputs": [],
   "source": [
    "from bs4 import BeautifulSoup\n",
    "import urllib.request as req\n",
    "import os.path"
   ]
  },
  {
   "cell_type": "code",
   "execution_count": 5,
   "metadata": {},
   "outputs": [],
   "source": [
    "# XMLをダウンロード\n",
    "url = \"http://www.city.yokohama.lg.jp/somu/org/kikikanri/data/\"\n",
    "savename = \"shelter.xml\"\n",
    "if not os.path.exists(savename):\n",
    "    req.urlretrieve(url, savename)"
   ]
  },
  {
   "cell_type": "code",
   "execution_count": 6,
   "metadata": {},
   "outputs": [],
   "source": [
    "# BeautifulSoupで解析\n",
    "xml = open(savename, \"r\", encoding=\"utf-8\").read()\n",
    "soup = BeautifulSoup(xml, 'html.parser')"
   ]
  },
  {
   "cell_type": "code",
   "execution_count": 7,
   "metadata": {},
   "outputs": [],
   "source": [
    "# データを各区ごとに確認\n",
    "info = {}\n",
    "# 各shlterにname, ward, addr, noteの情報が入っている\n",
    "for i in soup.find_all(\"shelter\"):\n",
    "    name = i.find('name').string\n",
    "    ward = i.find('ward').string\n",
    "    addr = i.find('address').string\n",
    "    note = i.find('notes').string\n",
    "    if not (ward in info):\n",
    "        info[ward] = []\n",
    "    info[ward].append(name)"
   ]
  },
  {
   "cell_type": "code",
   "execution_count": 8,
   "metadata": {},
   "outputs": [
    {
     "name": "stdout",
     "output_type": "stream",
     "text": [
      "+ 鶴見区\n",
      "| - 生麦小学校\n",
      "| - 豊岡小学校\n",
      "| - 鶴見小学校\n",
      "| - 潮田小学校\n",
      "| - 下野谷小学校\n",
      "| - 市場小学校\n",
      "| - 平安小学校\n",
      "| - 末吉小学校\n",
      "| - 上末吉小学校\n",
      "| - 下末吉小学校\n",
      "| - 旭小学校\n",
      "| - 東台小学校\n",
      "| - 岸谷小学校\n",
      "| - 矢向小学校\n",
      "| - 入船小学校\n",
      "| - 寺尾小学校\n",
      "| - 汐入小学校\n",
      "| - 馬場小学校\n",
      "| - 駒岡小学校\n",
      "| - 獅子ケ谷小学校\n",
      "| - 上寺尾小学校\n",
      "| - 新鶴見小学校\n",
      "| - 市場中学校\n",
      "| - 矢向中学校\n",
      "| - 鶴見中学校\n",
      "| - 末吉中学校\n",
      "| - 寺尾中学校\n",
      "| - 生麦中学校\n",
      "| - 潮田中学校\n",
      "| - 寛政中学校\n",
      "| - 上の宮中学校\n",
      "+ 神奈川区\n",
      "| - 三ツ沢小学校\n",
      "| - 青木小学校\n",
      "| - 二谷小学校\n",
      "| - 幸ケ谷小学校\n",
      "| - 浦島小学校\n",
      "| - 子安小学校\n",
      "| - 白幡小学校\n",
      "| - 神橋小学校\n",
      "| - 池上小学校\n",
      "| - 西寺尾小学校\n",
      "| - 西寺尾第二小学校\n",
      "| - 大口台小学校\n",
      "| - 斎藤分小学校\n",
      "| - 神奈川小学校\n",
      "| - 神大寺小学校\n",
      "| - 中丸小学校\n",
      "| - 羽沢小学校\n",
      "| - 菅田小学校\n",
      "| - 南神大寺小学校\n",
      "| - 栗田谷中学校\n",
      "| - 浦島丘中学校\n",
      "| - 錦台中学校\n",
      "| - 神奈川中学校\n",
      "| - 松本中学校\n",
      "| - 六角橋中学校\n",
      "+ 西区\n",
      "| - 東小学校\n",
      "| - 稲荷台小学校\n",
      "| - 西前小学校\n",
      "| - 平沼小学校\n",
      "| - 宮谷小学校\n",
      "| - 戸部小学校\n",
      "| - 一本松小学校\n",
      "| - 浅間台小学校\n",
      "| - 岡野中学校\n",
      "| - 西中学校\n",
      "| - 老松中学校\n",
      "| - 軽井沢中学校\n",
      "+ 中区\n",
      "| - 本町小学校\n",
      "| - 山元小学校\n",
      "| - 元街小学校\n",
      "| - 北方小学校\n",
      "| - 大鳥小学校\n",
      "| - 間門小学校\n",
      "| - 立野小学校\n",
      "| - 本牧南小学校\n",
      "| - 本牧小学校\n",
      "| - 横浜吉田中学校\n",
      "| - 港中学校\n",
      "| - 仲尾台中学校\n",
      "| - みなと総合高等学校\n",
      "+ 南区\n",
      "| - 南吉田小学校\n",
      "| - 石川小学校\n",
      "| - 中村小学校\n",
      "| - 日枝小学校\n",
      "| - 蒔田小学校\n",
      "| - 大岡小学校\n",
      "| - 井土ケ谷小学校\n",
      "| - 永田小学校\n",
      "| - 南太田小学校\n",
      "| - 太田小学校\n",
      "| - 南小学校\n",
      "| - 六つ川小学校\n",
      "| - 藤の木小学校\n",
      "| - 永田台小学校\n",
      "| - 六つ川台小学校\n",
      "| - 別所小学校\n",
      "| - 六つ川西小学校\n",
      "| - 平楽中学校\n",
      "| - 共進中学校\n",
      "| - 南中学校\n",
      "| - 蒔田中学校\n",
      "| - 六ツ川中学校\n",
      "| - 南が丘中学校\n",
      "| - 永田中学校\n",
      "| - 藤の木中学校\n",
      "+ 港南区\n",
      "| - 日野小学校\n",
      "| - 永野小学校\n",
      "| - 日下小学校\n",
      "| - 桜岡小学校\n",
      "| - 南台小学校\n",
      "| - 芹が谷小学校\n",
      "| - 吉原小学校\n",
      "| - 下永谷小学校\n",
      "| - 上大岡小学校\n",
      "| - 芹が谷南小学校\n",
      "| - 日限山小学校\n",
      "| - 港南台第一小学校\n",
      "| - 日野南小学校\n",
      "| - 下野庭小学校\n",
      "| - 相武山小学校\n",
      "| - 永谷小学校\n",
      "| - 港南台第二小学校\n",
      "| - 港南台第三小学校\n",
      "| - 丸山台小学校\n",
      "| - 野庭すずかけ小学校\n",
      "| - 小坪小学校\n",
      "| - 上永谷中学校\n",
      "| - 港南中学校\n",
      "| - 笹下中学校\n",
      "| - 野庭中学校\n",
      "| - 港南台第一中学校\n",
      "| - 芹が谷中学校\n",
      "| - 日限山中学校\n",
      "| - 日野南中学校\n",
      "| - 丸山台中学校\n",
      "| - 東永谷中学校\n",
      "+ 保土ケ谷区\n",
      "| - 富士見台小学校\n",
      "| - 保土ケ谷小学校\n",
      "| - 帷子小学校\n",
      "| - 岩崎小学校\n",
      "| - 初音が丘小学校\n",
      "| - 峯小学校\n",
      "| - 星川小学校\n",
      "| - 仏向小学校\n",
      "| - 川島小学校\n",
      "| - 上菅田小学校\n",
      "| - 今井小学校\n",
      "| - 桜台小学校\n",
      "| - 常盤台小学校\n",
      "| - 上星川小学校\n",
      "| - 笹山小学校\n",
      "| - 新井小学校\n",
      "| - 旧・くぬぎ台小学校\n",
      "| - 坂本小学校\n",
      "| - 藤塚小学校\n",
      "| - 瀬戸ケ谷小学校\n",
      "| - 権太坂小学校\n",
      "| - 保土ケ谷中学校\n",
      "| - 宮田中学校\n",
      "| - 西谷中学校\n",
      "| - 橘中学校\n",
      "| - 岩崎中学校\n",
      "| - 新井中学校\n",
      "+ 旭区\n",
      "| - 上白根中学校\n",
      "| - 二俣川小学校\n",
      "| - 市沢小学校\n",
      "| - 白根小学校\n",
      "| - 都岡小学校\n",
      "| - 希望ケ丘小学校\n",
      "| - 鶴ケ峯小学校\n",
      "| - 本宿小学校\n",
      "| - 万騎が原小学校\n",
      "| - 今宿小学校\n",
      "| - 東希望が丘小学校\n",
      "| - 上川井小学校\n",
      "| - さちが丘小学校\n",
      "| - 旧・左近山第一小学校\n",
      "| - 笹野台小学校\n",
      "| - 中沢小学校\n",
      "| - 旧・左近山第二小学校\n",
      "| - 四季の森小学校\n",
      "| - 不動丸小学校\n",
      "| - 川井小学校\n",
      "| - 上白根小学校\n",
      "| - 南本宿小学校\n",
      "| - 旧・左近山小高小学校\n",
      "| - 中尾小学校\n",
      "| - 善部小学校\n",
      "| - 若葉台特別支援学校\n",
      "| - 今宿南小学校\n",
      "| - 若葉台小学校\n",
      "| - 旧・若葉台西中学校\n",
      "| - 万騎が原中学校\n",
      "| - 鶴ケ峯中学校\n",
      "| - 旭中学校\n",
      "| - 南希望が丘中学校\n",
      "| - 今宿中学校\n",
      "| - 本宿中学校\n",
      "| - 旭北中学校\n",
      "+ 磯子区\n",
      "| - 滝頭小学校\n",
      "| - 岡村小学校\n",
      "| - 磯子小学校\n",
      "| - 浜小学校\n",
      "| - 杉田小学校\n",
      "| - 根岸小学校\n",
      "| - 屏風浦小学校\n",
      "| - 梅林小学校\n",
      "| - 汐見台小学校\n",
      "| - 洋光台第一小学校\n",
      "| - 洋光台第二小学校\n",
      "| - さわの里小学校\n",
      "| - 洋光台第三小学校\n",
      "| - 洋光台第四小学校\n",
      "| - 森東小学校\n",
      "| - 山王台小学校\n",
      "| - 根岸中学校\n",
      "| - 浜中学校\n",
      "| - 岡村中学校\n",
      "| - 汐見台中学校\n",
      "| - 森中学校\n",
      "+ 金沢区\n",
      "| - 富岡小学校\n",
      "| - 金沢小学校\n",
      "| - 八景小学校\n",
      "| - 文庫小学校\n",
      "| - 六浦小学校\n",
      "| - 釜利谷小学校\n",
      "| - 大道小学校\n",
      "| - 瀬ケ崎小学校\n",
      "| - 西柴小学校\n",
      "| - 西富岡小学校\n",
      "| - 朝比奈小学校\n",
      "| - 釜利谷西小学校\n",
      "| - 高舟台小学校\n",
      "| - 並木第一小学校\n",
      "| - 釜利谷東小学校\n",
      "| - 並木中央小学校\n",
      "| - 並木中学校\n",
      "| - 並木第四小学校\n",
      "| - 能見台小学校\n",
      "| - 釜利谷南小学校\n",
      "| - 小田小学校\n",
      "| - 六浦南小学校\n",
      "| - 能見台南小学校\n",
      "| - 西柴中学校\n",
      "| - 六浦中学校\n",
      "| - 大道中学校\n",
      "+ 港北区\n",
      "| - 城郷小学校\n",
      "| - 大綱小学校\n",
      "| - 大曽根小学校\n",
      "| - 綱島小学校\n",
      "| - 日吉台小学校\n",
      "| - 港北小学校\n",
      "| - 菊名小学校\n",
      "| - 新田小学校\n",
      "| - 高田中学校\n",
      "| - 矢上小学校\n",
      "| - 駒林小学校\n",
      "| - 篠原小学校\n",
      "| - 下田小学校\n",
      "| - 日吉南小学校\n",
      "| - 篠原西小学校\n",
      "| - 新吉田小学校\n",
      "| - 綱島東小学校\n",
      "| - 師岡小学校\n",
      "| - 高田東小学校\n",
      "| - 太尾小学校\n",
      "| - 新羽小学校\n",
      "| - 北綱島小学校\n",
      "| - 新吉田第二小学校\n",
      "| - 大豆戸小学校\n",
      "| - 小机小学校\n",
      "| - 城郷中学校\n",
      "| - 新田中学校\n",
      "| - 樽町中学校\n",
      "+ 緑区\n",
      "| - 山下小学校\n",
      "| - 鴨居小学校\n",
      "| - 新治小学校\n",
      "| - 森の台小学校\n",
      "| - 長津田小学校\n",
      "| - 十日市場小学校\n",
      "| - 三保小学校\n",
      "| - 竹山小学校\n",
      "| - 長津田第二小学校\n",
      "| - 東本郷小学校\n",
      "| - 上山小学校\n",
      "| - 緑小学校\n",
      "| - 霧が丘小学校\n",
      "| - 旧・霧ヶ丘第三小学校\n",
      "| - いぶき野小学校\n",
      "| - 中山小学校\n",
      "| - 山下みどり台小学校\n",
      "| - 田奈中学校\n",
      "| - 中山中学校\n",
      "| - 十日市場中学校\n",
      "| - 鴨居中学校\n",
      "| - 東鴨居中学校\n",
      "+ 青葉区\n",
      "| - 鉄小学校\n",
      "| - 谷本小学校\n",
      "| - 田奈小学校\n",
      "| - 山内小学校\n",
      "| - 奈良小学校\n",
      "| - つつじが丘小学校\n",
      "| - 美しが丘小学校\n",
      "| - 青葉台小学校\n",
      "| - 榎が丘小学校\n",
      "| - すすき野小学校\n",
      "| - もえぎ野小学校\n",
      "| - 元石川小学校\n",
      "| - 藤が丘小学校\n",
      "| - みたけ台小学校\n",
      "| - 美しが丘東小学校\n",
      "| - 市ケ尾小学校\n",
      "| - あざみ野第一小学校\n",
      "| - 嶮山小学校\n",
      "| - 東市ケ尾小学校\n",
      "| - 鴨志田第一小学校\n",
      "| - あざみ野第二小学校\n",
      "| - 鴨志田緑小学校\n",
      "| - 荏子田小学校\n",
      "| - 恩田小学校\n",
      "| - 新石川小学校\n",
      "| - さつきが丘小学校\n",
      "| - 荏田西小学校\n",
      "| - 桂小学校\n",
      "| - 奈良の丘小学校\n",
      "| - 山内中学校\n",
      "| - 谷本中学校\n",
      "| - 青葉台中学校\n",
      "| - みたけ台中学校\n",
      "| - 美しが丘中学校\n",
      "| - 緑が丘中学校\n",
      "| - 奈良中学校\n",
      "| - あざみ野中学校\n",
      "| - 黒須田小学校\n",
      "| - あかね台中学校\n",
      "| - 美しが丘西小学校\n",
      "+ 都筑区\n",
      "| - 中川小学校\n",
      "| - 山田小学校\n",
      "| - 勝田小学校\n",
      "| - すみれが丘小学校\n",
      "| - 茅ケ崎小学校\n",
      "| - 中川西小学校\n",
      "| - 都田小学校\n",
      "| - 川和小学校\n",
      "| - 折本小学校\n",
      "| - 荏田小学校\n",
      "| - 都田西小学校\n",
      "| - 荏田東第一小学校\n",
      "| - 荏田南小学校\n",
      "| - 茅ケ崎台小学校\n",
      "| - 川和東小学校\n",
      "| - 北山田小学校\n",
      "| - 都筑小学校\n",
      "| - 南山田小学校\n",
      "| - つづきの丘小学校\n",
      "| - 東山田小学校\n",
      "| - 茅ケ崎東小学校\n",
      "| - 中川中学校\n",
      "| - 茅ケ崎中学校\n",
      "| - 中川西中学校\n",
      "| - 都田中学校\n",
      "| - 川和中学校\n",
      "| - 牛久保小学校\n",
      "+ 戸塚区\n",
      "| - 境木小学校\n",
      "| - 戸塚小学校\n",
      "| - 汲沢小学校\n",
      "| - 東戸塚小学校\n",
      "| - 大正小学校\n",
      "| - 小雀小学校\n",
      "| - 矢部小学校\n",
      "| - 深谷台小学校\n",
      "| - 川上小学校\n",
      "| - 柏尾小学校\n",
      "| - 川上北小学校\n",
      "| - 深谷小学校\n",
      "| - 南戸塚小学校\n",
      "| - 平戸小学校\n",
      "| - 東汲沢小学校\n",
      "| - 名瀬小学校\n",
      "| - 俣野小学校\n",
      "| - 平戸台小学校\n",
      "| - 鳥が丘小学校\n",
      "| - 南舞岡小学校\n",
      "| - 上矢部小学校\n",
      "| - 品濃小学校\n",
      "| - 秋葉小学校\n",
      "| - 東俣野小学校\n",
      "| - 舞岡小学校\n",
      "| - 倉田小学校\n",
      "| - 東品濃小学校\n",
      "| - 下郷小学校\n",
      "| - 境木中学校\n",
      "| - 戸塚中学校\n",
      "| - 大正中学校\n",
      "| - 舞岡中学校\n",
      "| - 豊田中学校\n",
      "| - 汲沢中学校\n",
      "| - 名瀬中学校\n",
      "| - 南戸塚中学校\n",
      "+ 栄区\n",
      "| - 本郷小学校\n",
      "| - 豊田小学校\n",
      "| - 千秀小学校\n",
      "| - 飯島小学校\n",
      "| - 桂台小学校\n",
      "| - 西本郷小学校\n",
      "| - 旧・野七里小学校\n",
      "| - 本郷台小学校\n",
      "| - 上郷小学校\n",
      "| - 小菅ケ谷小学校\n",
      "| - 公田小学校\n",
      "| - 庄戸小学校\n",
      "| - 小山台小学校\n",
      "| - 笠間小学校\n",
      "| - 桜井小学校\n",
      "| - 本郷中学校\n",
      "| - 桂台中学校\n",
      "| - 西本郷中学校\n",
      "| - 飯島中学校\n",
      "| - 旧・庄戸中学校\n",
      "+ 泉区\n",
      "| - 中和田小学校\n",
      "| - 中田小学校\n",
      "| - 岡津小学校\n",
      "| - 下和泉小学校\n",
      "| - 中和田南小学校\n",
      "| - 上飯田小学校\n",
      "| - 東中田小学校\n",
      "| - 新橋小学校\n",
      "| - 和泉小学校\n",
      "| - 旧・いちょう小学校\n",
      "| - 葛野小学校\n",
      "| - いずみ野小学校\n",
      "| - 飯田北いちょう小学校\n",
      "| - 伊勢山小学校\n",
      "| - 緑園東小学校\n",
      "| - 緑園西小学校\n",
      "| - 西が岡小学校\n",
      "| - 中和田中学校\n",
      "| - 中田中学校\n",
      "| - 泉が丘中学校\n",
      "| - 上飯田中学校\n",
      "| - いずみ野中学校\n",
      "| - 領家中学校\n",
      "+ 瀬谷区\n",
      "| - 原小学校\n",
      "| - 上瀬谷小学校\n",
      "| - 瀬谷小学校\n",
      "| - 三ツ境小学校\n",
      "| - 南瀬谷小学校\n",
      "| - 二つ橋小学校\n",
      "| - 瀬谷第二小学校\n",
      "| - 相沢小学校\n",
      "| - 大門小学校\n",
      "| - 瀬谷さくら小学校\n",
      "| - 県立横浜ひなたやま支援学校\n",
      "| - 阿久和小学校\n",
      "| - 瀬谷中学校\n",
      "| - 原中学校\n",
      "| - 南瀬谷中学校\n",
      "+ None\n",
      "| - 旧・富士見中学校\n"
     ]
    }
   ],
   "source": [
    "# 区ごとに防災拠点を表示\n",
    "for ward in info.keys():\n",
    "    print(\"+\", ward)\n",
    "    for name in info[ward]:\n",
    "        print(\"| -\", name)"
   ]
  },
  {
   "cell_type": "markdown",
   "metadata": {},
   "source": [
    "## JSONの解析"
   ]
  },
  {
   "cell_type": "markdown",
   "metadata": {},
   "source": [
    "JavaScript Object Notation  \n",
    "JSONの特徴は、仕組みが単純であること。そのため、多くのプログラミング言語でJSONのエンコード・デコードが標準機能として提供されている。  \n",
    "\n",
    "JSONの紹介ページ  \n",
    "http://json.org/"
   ]
  },
  {
   "cell_type": "markdown",
   "metadata": {},
   "source": [
    "## JSONの構造"
   ]
  },
  {
   "cell_type": "markdown",
   "metadata": {},
   "source": [
    "|データ型|表現方法|利用例|\n",
    "|:--|:--|:--|\n",
    "|数値|数字|30|\n",
    "|文字列|\"\" で括る|\"str\"|\n",
    "|真偽型|trueかfalse|true|\n",
    "|配列|[n1, n2, n3,...]のように記述|[1, 2, 3, 10]|\n",
    "|オブジェクト|{\"key\":value, \"key\":value,...}のように記述|{\"org\": 50, \"com\":10}|\n",
    "|null|null|null|"
   ]
  },
  {
   "cell_type": "markdown",
   "metadata": {},
   "source": [
    "### PythonでJSONの解析-百人一首を読む"
   ]
  },
  {
   "cell_type": "code",
   "execution_count": 9,
   "metadata": {},
   "outputs": [],
   "source": [
    "import json\n",
    "import random"
   ]
  },
  {
   "cell_type": "code",
   "execution_count": 10,
   "metadata": {},
   "outputs": [],
   "source": [
    "# JSONデータをダウンロード\n",
    "url = \"http://api.aoikujira.com/hyakunin/get.php?fmt=json\"\n",
    "savename = \"hyakunin.json\"\n",
    "if not os.path.exists(url):\n",
    "    req.urlretrieve(url, savename)"
   ]
  },
  {
   "cell_type": "code",
   "execution_count": 11,
   "metadata": {},
   "outputs": [],
   "source": [
    "# JSONファイルを解析\n",
    "data = json.load(open(savename, \"r\", encoding=\"utf-8\"))\n",
    "# あるいは\n",
    "# s = open(savename, \"r\", encodeing=\"utf-8\").read()\n",
    "# data = json.loads(s)"
   ]
  },
  {
   "cell_type": "code",
   "execution_count": 12,
   "metadata": {},
   "outputs": [
    {
     "name": "stdout",
     "output_type": "stream",
     "text": [
      "心にも あらでうき世に ながらへば 恋しかるべき 夜半の月かな\n"
     ]
    }
   ],
   "source": [
    "# ランダムに一首表示\n",
    "r = random.choice(data)\n",
    "print(r['kami'], r['simo'])"
   ]
  },
  {
   "cell_type": "markdown",
   "metadata": {},
   "source": [
    "### JSON形式を書き出す"
   ]
  },
  {
   "cell_type": "code",
   "execution_count": 13,
   "metadata": {},
   "outputs": [
    {
     "name": "stdout",
     "output_type": "stream",
     "text": [
      "{\"date\": \"2017-05-10\", \"price\": {\"Apple\": 80, \"Orange\": 55, \"Banana\": 40}}\n"
     ]
    }
   ],
   "source": [
    "price = {\n",
    "    \"date\": \"2017-05-10\",\n",
    "    \"price\": {\n",
    "        \"Apple\": 80,\n",
    "        \"Orange\": 55,\n",
    "        \"Banana\": 40\n",
    "    }}\n",
    "s = json.dumps(price)\n",
    "print(s)"
   ]
  },
  {
   "cell_type": "markdown",
   "metadata": {},
   "source": [
    "## YAMLを解析する"
   ]
  },
  {
   "cell_type": "markdown",
   "metadata": {},
   "source": [
    "YAMLとは、インデントを利用して階層構造を表現するという特徴を持ったデータ形式。でキストデータなのでmテキストエディタを用いて編集することができる。XMLよりもシンプルなのが特徴で、、前述のJSONと似ている。  \n",
    "YAMLはインデントを用いて階層構造を記述する。"
   ]
  },
  {
   "cell_type": "code",
   "execution_count": 14,
   "metadata": {},
   "outputs": [],
   "source": [
    "import yaml"
   ]
  },
  {
   "cell_type": "code",
   "execution_count": 15,
   "metadata": {},
   "outputs": [],
   "source": [
    "# YAMLの定義\n",
    "yaml_str = \"\"\"\n",
    "Data: 2017-03-10\n",
    "PriceList:\n",
    "    -\n",
    "        item_id: 1000\n",
    "        name: Banana\n",
    "        color: yellow\n",
    "        price: 800\n",
    "    -\n",
    "        item_id: 1001\n",
    "        name: Orange\n",
    "        color: orange\n",
    "        price: 1400\n",
    "    -\n",
    "        item_id: 1002\n",
    "        name: Apple\n",
    "        color: red\n",
    "        price: 2400\n",
    "\"\"\""
   ]
  },
  {
   "cell_type": "code",
   "execution_count": 16,
   "metadata": {},
   "outputs": [
    {
     "name": "stderr",
     "output_type": "stream",
     "text": [
      "<ipython-input-16-7671a300933b>:2: YAMLLoadWarning: calling yaml.load() without Loader=... is deprecated, as the default Loader is unsafe. Please read https://msg.pyyaml.org/load for full details.\n",
      "  data = yaml.load(yaml_str)\n"
     ]
    }
   ],
   "source": [
    "# YAMLを解析する\n",
    "data = yaml.load(yaml_str)"
   ]
  },
  {
   "cell_type": "code",
   "execution_count": 17,
   "metadata": {},
   "outputs": [
    {
     "name": "stdout",
     "output_type": "stream",
     "text": [
      "Banana 800\n",
      "Orange 1400\n",
      "Apple 2400\n"
     ]
    }
   ],
   "source": [
    "# 名前と値段だけ表示する\n",
    "for item in data['PriceList']:\n",
    "    print(item[\"name\"], item[\"price\"])"
   ]
  },
  {
   "cell_type": "markdown",
   "metadata": {},
   "source": [
    "### PythonでYAMLの読み書き"
   ]
  },
  {
   "cell_type": "code",
   "execution_count": 18,
   "metadata": {},
   "outputs": [],
   "source": [
    "# PYTHONのデータをYAMLで出力\n",
    "customer = [\n",
    "    {\"name\": \"Yamada\", \"age\": \"35\", \"gender\": \"man\"},\n",
    "    {\"name\": \"Sato\", \"age\": \"58\", \"gender\": \"woman\"},\n",
    "    {\"name\": \"Kato\", \"age\": \"42\", \"gender\": \"man\"},\n",
    "    {\"name\": \"Nishi\", \"age\": \"22\", \"gender\": \"man\"}\n",
    "]"
   ]
  },
  {
   "cell_type": "code",
   "execution_count": 19,
   "metadata": {},
   "outputs": [
    {
     "name": "stdout",
     "output_type": "stream",
     "text": [
      "- age: '35'\n",
      "  gender: man\n",
      "  name: Yamada\n",
      "- age: '58'\n",
      "  gender: woman\n",
      "  name: Sato\n",
      "- age: '42'\n",
      "  gender: man\n",
      "  name: Kato\n",
      "- age: '22'\n",
      "  gender: man\n",
      "  name: Nishi\n",
      "\n"
     ]
    }
   ],
   "source": [
    "# PythonのデータをYAMLに変換\n",
    "yaml_str = yaml.dump(customer)\n",
    "print(yaml_str)"
   ]
  },
  {
   "cell_type": "code",
   "execution_count": 20,
   "metadata": {},
   "outputs": [
    {
     "name": "stderr",
     "output_type": "stream",
     "text": [
      "<ipython-input-20-40e4e0771933>:2: YAMLLoadWarning: calling yaml.load() without Loader=... is deprecated, as the default Loader is unsafe. Please read https://msg.pyyaml.org/load for full details.\n",
      "  data = yaml.load(yaml_str)\n"
     ]
    }
   ],
   "source": [
    "# YAMLをPythonデータに変換\n",
    "data = yaml.load(yaml_str)"
   ]
  },
  {
   "cell_type": "code",
   "execution_count": 21,
   "metadata": {},
   "outputs": [
    {
     "name": "stdout",
     "output_type": "stream",
     "text": [
      "Yamada\n",
      "Sato\n",
      "Kato\n",
      "Nishi\n"
     ]
    }
   ],
   "source": [
    "# 顧客名だけを表示\n",
    "for p in data:\n",
    "    print(p['name'])"
   ]
  },
  {
   "cell_type": "markdown",
   "metadata": {},
   "source": [
    "YAMLの読み書きをまとめてみると、  \n",
    "\n",
    "|関数名|説明|\n",
    "|:--|:--|\n",
    "|yaml.load(str)|文字列str(YAML)を解析|\n",
    "|yaml.dump(v)|PythonデータvをYAML形式で出力|"
   ]
  },
  {
   "cell_type": "markdown",
   "metadata": {},
   "source": [
    "## YAMLのデータ形式の紹介"
   ]
  },
  {
   "cell_type": "markdown",
   "metadata": {},
   "source": [
    "YAMLの基本は、配列、ハッシュ、スカラー()文字列・数値・真偽値など)。  "
   ]
  },
  {
   "cell_type": "markdown",
   "metadata": {},
   "source": [
    "配列を表すには、行頭にハイフン「-」をつける。ハイフンの後には半角スペースが必要。  "
   ]
  },
  {
   "cell_type": "code",
   "execution_count": 22,
   "metadata": {},
   "outputs": [],
   "source": [
    "yaml_str = \"\"\"\n",
    "- banana\n",
    "- kiwi\n",
    "\n",
    "- mango\n",
    "\"\"\""
   ]
  },
  {
   "cell_type": "markdown",
   "metadata": {},
   "source": [
    "このとき、インデントすると、配列の中に配列を表現することができる。ただし、インデントをする直前にからの要素を入れる必要がある。"
   ]
  },
  {
   "cell_type": "code",
   "execution_count": 23,
   "metadata": {},
   "outputs": [],
   "source": [
    "yaml_str = \"\"\"\n",
    "- Yellow\n",
    "-\n",
    "    - Banana\n",
    "    - Orange\n",
    "- Red\n",
    "-\n",
    "    - Apple\n",
    "    - Strawberry\n",
    "\"\"\""
   ]
  },
  {
   "cell_type": "markdown",
   "metadata": {},
   "source": [
    "ハッシュは、JavaScriptンボオブジェクトに相当するもの。「キー: 値」の形式で記述する。また、インデントを用いて、階層構造を表現できる。"
   ]
  },
  {
   "cell_type": "code",
   "execution_count": 24,
   "metadata": {},
   "outputs": [],
   "source": [
    "yaml_str = \"\"\"\n",
    "name: Taro\n",
    "property:\n",
    "    age: 4\n",
    "    color: brown\n",
    "\"\"\""
   ]
  },
  {
   "cell_type": "markdown",
   "metadata": {},
   "source": [
    "配列をハッシュを組み合わせて、複雑なデータを表現することもできる。"
   ]
  },
  {
   "cell_type": "code",
   "execution_count": 25,
   "metadata": {},
   "outputs": [],
   "source": [
    "yaml_str = \"\"\"\n",
    "- name: Taro\n",
    "  color: brown\n",
    "  age: 4\n",
    "  favorites:\n",
    "      - Banana\n",
    "      - Miso soup\n",
    "- name: Mike\n",
    "  color: white\n",
    "  age: 8\n",
    "  favorites:\n",
    "      - Orange\n",
    "      - Candy\n",
    "\"\"\""
   ]
  },
  {
   "cell_type": "markdown",
   "metadata": {},
   "source": [
    "YAMLにはフロースタイルが用意されており、これを利用すると、JSONと同じように、hairetuwo[n1, n2, n3,...]で表現し、ハッシュを{\"key\": value, \"key\": value, ...}のように表示できる。ただし、「,」や「:」の後には半角空白を入れる必要がある。"
   ]
  },
  {
   "cell_type": "code",
   "execution_count": 26,
   "metadata": {},
   "outputs": [],
   "source": [
    "yaml_str = \"\"\"\n",
    "- name: Tarp\n",
    "- favorites: [\"Banana\", \"Miso soup\"]\n",
    "\"\"\""
   ]
  },
  {
   "cell_type": "markdown",
   "metadata": {},
   "source": [
    "YAMLではコメントを「#」で記述できます。"
   ]
  },
  {
   "cell_type": "code",
   "execution_count": 27,
   "metadata": {},
   "outputs": [],
   "source": [
    "yaml_str = \"\"\"\n",
    "# YAMLにはコメントを残すことが可能\n",
    "- name: Tarp\n",
    "- favorites: [\"Banana\", \"Miso soup\"]\n",
    "\"\"\""
   ]
  },
  {
   "cell_type": "markdown",
   "metadata": {},
   "source": [
    "複数行の文字列を指定することもできる"
   ]
  },
  {
   "cell_type": "code",
   "execution_count": 28,
   "metadata": {},
   "outputs": [],
   "source": [
    "yaml_str = \"\"\"\n",
    "multi-line: |\n",
    "    I like Banana.\n",
    "    I like Mango.\n",
    "    I like Orange.\n",
    "\"\"\""
   ]
  },
  {
   "cell_type": "markdown",
   "metadata": {},
   "source": [
    "YAMLではアンカーとエイリアスが利用できる。これは「&name」で印をつけておいて、「$*$name」で参照することができる。「&name」がアンカーで、「$*$name」がエイリアス。"
   ]
  },
  {
   "cell_type": "code",
   "execution_count": 29,
   "metadata": {},
   "outputs": [],
   "source": [
    "yaml_str = \"\"\"\n",
    "# 色を定義する\n",
    "color_define:\n",
    "    - &color1 \"#FF0000\"\n",
    "    - &color2 \"#00FF00\"\n",
    "    - &color3 \"#00FFFF\"\n",
    "\n",
    "# 色設定を記述する\n",
    "frame_color:\n",
    "    title: *colo1\n",
    "    logo: *color2\n",
    "\n",
    "article_color:\n",
    "    title: *color2\n",
    "    back: *color3\n",
    "\"\"\""
   ]
  },
  {
   "cell_type": "code",
   "execution_count": 30,
   "metadata": {},
   "outputs": [
    {
     "name": "stdout",
     "output_type": "stream",
     "text": [
      "title= #FF0000\n",
      "body= #00FF00\n",
      "link= #00FFFF\n"
     ]
    },
    {
     "name": "stderr",
     "output_type": "stream",
     "text": [
      "<ipython-input-30-5fd4ee470ce7>:16: YAMLLoadWarning: calling yaml.load() without Loader=... is deprecated, as the default Loader is unsafe. Please read https://msg.pyyaml.org/load for full details.\n",
      "  data = yaml.load(yaml_str)\n"
     ]
    }
   ],
   "source": [
    "# 文字列でYAMLを定義\n",
    "yaml_str = \"\"\"\n",
    "# 定義\n",
    "color_define:\n",
    "    - &color1 \"#FF0000\"\n",
    "    - &color2 \"#00FF00\"\n",
    "    - &color3 \"#00FFFF\"\n",
    "\n",
    "# エイリアスのテスト\n",
    "color:\n",
    "    title: *color1\n",
    "    body: *color2\n",
    "    link: *color3\n",
    "\"\"\"\n",
    "# YAMLを解析\n",
    "data = yaml.load(yaml_str)\n",
    "\n",
    "# エイリアスが展開せれているかテスト\n",
    "print(\"title=\", data[\"color\"][\"title\"])\n",
    "print(\"body=\", data[\"color\"][\"body\"])\n",
    "print(\"link=\", data[\"color\"][\"link\"])"
   ]
  },
  {
   "cell_type": "markdown",
   "metadata": {},
   "source": [
    "## CSV/TSVの解析"
   ]
  },
  {
   "cell_type": "markdown",
   "metadata": {},
   "source": [
    "Comma-Separated Values  \n",
    "Tab-Separated Values  \n",
    "Space-Separated Values"
   ]
  },
  {
   "cell_type": "markdown",
   "metadata": {},
   "source": [
    "CSVファイルは、一つ以上のレコードから成り立っており、レコードは改行で区切られる。"
   ]
  },
  {
   "cell_type": "markdown",
   "metadata": {},
   "source": [
    "レコード１  \n",
    "レコード2  \n",
    "レコード3  \n",
    "..."
   ]
  },
  {
   "cell_type": "markdown",
   "metadata": {},
   "source": [
    "レコードは一つ以上の同じ個数のフィールドで成り立っており、フィールドはかんま「,」で区切られる。なお、ファイルの先頭のレコードには、ヘッダー行があっても良い。"
   ]
  },
  {
   "cell_type": "markdown",
   "metadata": {},
   "source": [
    "ID, 商品名, 値段  \n",
    "1000, 石鹸, 300  \n",
    "1001, 手袋, 150  \n",
    "1002, マスク, 230"
   ]
  },
  {
   "cell_type": "markdown",
   "metadata": {},
   "source": [
    "各フィールドは以下のようにダブルコーテーション「\"...\"」で囲んでもいいことになってる。"
   ]
  },
  {
   "cell_type": "markdown",
   "metadata": {},
   "source": [
    "\"1000\", \"石鹸\", \"300\"  \n",
    "\"1001\", \"手袋\", \"150\"  \n",
    "\"1002\", \"マスク\", \"230\""
   ]
  },
  {
   "cell_type": "markdown",
   "metadata": {},
   "source": [
    "フィールドの中に、ダブルコーテーション「\"」やカンマ、改行を含む場合には必ずダブルコーテーションで囲むことになっている。そして、ダブルコーテーションをエスケープするには、２２ダブルコーテーションを記述し「\"aa\"\"bb\"」のように書く。"
   ]
  },
  {
   "cell_type": "markdown",
   "metadata": {},
   "source": [
    "\"商品番号\", \"商品名\", \"金額\"  \n",
    "\"1101\", \"特別サービス  \n",
    "石鹸半額\", \"150\"  \n",
    "\"1102\", \"いつもの三倍\"\"美味しい\"\"水\", \"300\""
   ]
  },
  {
   "cell_type": "markdown",
   "metadata": {},
   "source": [
    "### Pythonで単純なCSVファイルを読む"
   ]
  },
  {
   "cell_type": "code",
   "execution_count": 31,
   "metadata": {},
   "outputs": [],
   "source": [
    "import codecs"
   ]
  },
  {
   "cell_type": "code",
   "execution_count": 32,
   "metadata": {},
   "outputs": [],
   "source": [
    "# Shift_JISのCSVファイルを読む\n",
    "filename = \"list-sjis.csv\"\n",
    "csv = codecs.open(filename, \"r\", \"utf-8\").read()"
   ]
  },
  {
   "cell_type": "code",
   "execution_count": 33,
   "metadata": {},
   "outputs": [
    {
     "name": "stdout",
     "output_type": "stream",
     "text": [
      " 商品名  値段\n",
      " 石鹸  300\n",
      " 手袋  150\n",
      " マスク  230\n"
     ]
    }
   ],
   "source": [
    "# CSVをPythonのリストに変換する\n",
    "data = []\n",
    "rows = csv.split(\"\\n\")\n",
    "for row in rows:\n",
    "    if row == \"\":\n",
    "        continue\n",
    "    cells = row.split(\",\")\n",
    "    data.append(cells)\n",
    "\n",
    "# 変換結果を表示\n",
    "for c in data:\n",
    "    print(c[1], c[2])"
   ]
  },
  {
   "cell_type": "markdown",
   "metadata": {},
   "source": [
    "### Pythonでcsvモジュールを使う"
   ]
  },
  {
   "cell_type": "code",
   "execution_count": 34,
   "metadata": {},
   "outputs": [],
   "source": [
    "import csv"
   ]
  },
  {
   "cell_type": "code",
   "execution_count": 35,
   "metadata": {},
   "outputs": [
    {
     "name": "stdout",
     "output_type": "stream",
     "text": [
      " 商品名  値段\n",
      " 石鹸  300\n",
      " 手袋  150\n",
      " マスク  230\n"
     ]
    }
   ],
   "source": [
    "# CSVファイルを開く\n",
    "filename = \"list-sjis.csv\"\n",
    "fp = codecs.open(filename, \"r\", \"utf-8\")\n",
    "\n",
    "# 1行ずつ読む\n",
    "reader = csv.reader(fp, delimiter=\",\", quotechar='\"')\n",
    "for cells in reader:\n",
    "    print(cells[1], cells[2])"
   ]
  },
  {
   "cell_type": "markdown",
   "metadata": {},
   "source": [
    "先ほどと出力は同じだが、プログラムの構造はかなり異なる。  \n",
    "一行ずつ読み込む方式なので、膨大なサイズのCSVファイルに対してもfor文を用いることで、必要なところまで少しずつ読むことができる。"
   ]
  },
  {
   "cell_type": "code",
   "execution_count": 36,
   "metadata": {},
   "outputs": [],
   "source": [
    "with codecs.open(\"test.csv\", \"w\", \"shift_jis\") as fp:\n",
    "    writer = csv.writer(fp, delimiter=\",\", quotechar='\"')\n",
    "    writer.writerow([\"ID\", \"商品名\", \"値段\"])\n",
    "    writer.writerow([\"1000\", \"SDカード\", \"300\"])\n",
    "    writer.writerow([\"1001\", \"キーボード\", \"2100\"])\n",
    "    writer.writerow([\"1002\", \"マジック(赤,青)\", \"150\"])"
   ]
  },
  {
   "cell_type": "markdown",
   "metadata": {},
   "source": [
    "### Pandasも使える"
   ]
  },
  {
   "cell_type": "markdown",
   "metadata": {},
   "source": [
    "データ解析ライブラリのPandasを利用しても、手軽にCSVファイルを読み込み編集することができる。"
   ]
  },
  {
   "cell_type": "markdown",
   "metadata": {},
   "source": [
    "## Excelファイルの解析"
   ]
  },
  {
   "cell_type": "code",
   "execution_count": 37,
   "metadata": {},
   "outputs": [],
   "source": [
    "import openpyxl"
   ]
  },
  {
   "cell_type": "code",
   "execution_count": 38,
   "metadata": {},
   "outputs": [
    {
     "name": "stderr",
     "output_type": "stream",
     "text": [
      "/Users/tamai/python/Scraping_MachineLearning/env-scraping/lib/python3.8/site-packages/openpyxl/worksheet/_reader.py:300: UserWarning: Unknown extension is not supported and will be removed\n",
      "  warn(msg)\n"
     ]
    }
   ],
   "source": [
    "#Excelファイルを開く\n",
    "filename = \"population.xlsx\"\n",
    "book = openpyxl.load_workbook(filename)"
   ]
  },
  {
   "cell_type": "code",
   "execution_count": 39,
   "metadata": {},
   "outputs": [],
   "source": [
    "# 先頭のシートを得る\n",
    "sheet = book.worksheets[0]"
   ]
  },
  {
   "cell_type": "code",
   "execution_count": 40,
   "metadata": {},
   "outputs": [],
   "source": [
    "# シートの各行を順に得る\n",
    "data = []\n",
    "for row in sheet.rows:\n",
    "    data.append([\n",
    "        row[0].value,\n",
    "        row[2].value\n",
    "    ])"
   ]
  },
  {
   "cell_type": "code",
   "execution_count": 41,
   "metadata": {},
   "outputs": [],
   "source": [
    "# 先頭行は説明なのですてる\n",
    "del data[0]"
   ]
  },
  {
   "cell_type": "code",
   "execution_count": 42,
   "metadata": {},
   "outputs": [],
   "source": [
    "# データを人口順に並び替える\n",
    "data = sorted(data, key=lambda x:x[1])"
   ]
  },
  {
   "cell_type": "code",
   "execution_count": 43,
   "metadata": {},
   "outputs": [
    {
     "name": "stdout",
     "output_type": "stream",
     "text": [
      "1 鳥取県 588667\n",
      "2 島根県 717397\n",
      "3 高知県 764456\n",
      "4 徳島県 785491\n",
      "5 福井県 806314\n"
     ]
    }
   ],
   "source": [
    "# ワースト5を表示\n",
    "for i, a in enumerate(data):\n",
    "    if i >= 5:\n",
    "        break\n",
    "    print(i+1, a[0], int(a[1]))"
   ]
  },
  {
   "cell_type": "markdown",
   "metadata": {},
   "source": [
    "Excelファイルの仕組み：  \n",
    "ブック(book): 複数のシート(sheet)  \n",
    "シート(sheet): 行(row)と列(column)の二次元セル(cell)"
   ]
  },
  {
   "cell_type": "markdown",
   "metadata": {},
   "source": [
    "### PythonでExcelファイルに書き込む"
   ]
  },
  {
   "cell_type": "code",
   "execution_count": 44,
   "metadata": {},
   "outputs": [],
   "source": [
    "# Excelファイルを開く\n",
    "filename = \"population.xlsx\"\n",
    "book = openpyxl.load_workbook(filename)"
   ]
  },
  {
   "cell_type": "code",
   "execution_count": 45,
   "metadata": {},
   "outputs": [],
   "source": [
    "# アクティブになっているシートを得る\n",
    "sheet = book.active"
   ]
  },
  {
   "cell_type": "code",
   "execution_count": 46,
   "metadata": {},
   "outputs": [
    {
     "name": "stdout",
     "output_type": "stream",
     "text": [
      "total= 128057352\n"
     ]
    }
   ],
   "source": [
    "# 人口のトータルを計算する\n",
    "total = 0\n",
    "for i, row in enumerate(sheet.rows):\n",
    "    if i == 0: # 先頭はヘッダ\n",
    "        continue\n",
    "    po = int(row[2].value)\n",
    "    total += po\n",
    "print(\"total=\", total)"
   ]
  },
  {
   "cell_type": "code",
   "execution_count": 47,
   "metadata": {},
   "outputs": [],
   "source": [
    "# 書き込む\n",
    "sheet['A49'] = \"Total\"\n",
    "sheet['C49'] = total"
   ]
  },
  {
   "cell_type": "code",
   "execution_count": 48,
   "metadata": {},
   "outputs": [],
   "source": [
    "# フォントなどの設定を変更する\n",
    "c = sheet['C49']\n",
    "c.font = openpyxl.styles.Font(size=14, color=\"FF0000\")\n",
    "c.number_format = sheet['C48'].number_format"
   ]
  },
  {
   "cell_type": "code",
   "execution_count": 49,
   "metadata": {},
   "outputs": [
    {
     "name": "stdout",
     "output_type": "stream",
     "text": [
      "ok\n"
     ]
    }
   ],
   "source": [
    "# 書き込んだ内容をファイルへ保存\n",
    "filename = \"population-total.xlsx\"\n",
    "book.save(filename)\n",
    "print(\"ok\")"
   ]
  },
  {
   "cell_type": "markdown",
   "metadata": {},
   "source": [
    "### Pandasを利用してExcelを読み出す方法"
   ]
  },
  {
   "cell_type": "code",
   "execution_count": 50,
   "metadata": {},
   "outputs": [],
   "source": [
    "import pandas as pd"
   ]
  },
  {
   "cell_type": "code",
   "execution_count": 51,
   "metadata": {
    "collapsed": true
   },
   "outputs": [
    {
     "name": "stdout",
     "output_type": "stream",
     "text": [
      "    都道府県    団体コード      法定人口      推計人口\n",
      "0    東京都  13000-1  13159388  13613660\n",
      "1   神奈川県  14000-7   9048331   9146101\n",
      "2    大阪府  27000-8   8865245   8838988\n",
      "3    愛知県  23000-6   7410719   7501909\n",
      "4    埼玉県  11000-1   7194556   7277247\n",
      "5    千葉県  12000-6   6216289   6238589\n",
      "6    兵庫県  28000-3   5588133   5526538\n",
      "7    北海道  01000-6   5506419   5381711\n",
      "8    福岡県  40000-9   5071968   5104919\n",
      "9    静岡県  22000-1   3765007   3688878\n",
      "10   茨城県  08000-4   2969770   2909196\n",
      "11   広島県  34000-6   2860750   2822448\n",
      "12   京都府  26000-2   2636092   2607108\n",
      "13   宮城県  04000-2   2348165   2330528\n",
      "14   新潟県  15000-2   2374450   2290569\n",
      "15   長野県  20000-0   2152449   2088105\n",
      "16   岐阜県  21000-5   2080773   2024859\n",
      "17   栃木県  09000-0   2007683   1969056\n",
      "18   群馬県  10000-5   2008068   1967635\n",
      "19   福島県  07000-9   2029064   1903174\n",
      "20   岡山県  33000-1   1945276   1917299\n",
      "21   三重県  24000-1   1854724   1808932\n",
      "22   熊本県  43000-5   1817426   1778005\n",
      "23  鹿児島県  46000-1   1706242   1639628\n",
      "24   沖縄県  47000-7   1392818   1432874\n",
      "25   滋賀県  25000-7   1410777   1414888\n",
      "26   山口県  35000-1   1451338   1397471\n",
      "27   愛媛県  38000-8   1431493   1377779\n",
      "28   長崎県  42000-0   1426779   1367645\n",
      "29   奈良県  29000-9   1400728   1359407\n",
      "30   青森県  02000-1   1373339   1296650\n",
      "31   岩手県  03000-7   1330147   1270260\n",
      "32   大分県  44000-1   1196529   1161374\n",
      "33   石川県  17000-3   1169788   1151337\n",
      "34   山形県  06000-3   1168924   1114186\n",
      "35   宮崎県  45000-6   1135233   1097643\n",
      "36   富山県  16000-8   1093247   1063242\n",
      "37   秋田県  05000-8   1085997   1012938\n",
      "38   香川県  37000-2    995842    973760\n",
      "39  和歌山県  30000-4   1002198    956582\n",
      "40   山梨県  19000-4    863075    830992\n",
      "41   佐賀県  41000-4    849788    829690\n",
      "42   福井県  18000-9    806314    783317\n",
      "43   徳島県  36000-7    785491    751698\n",
      "44   高知県  39000-3    764456    722750\n",
      "45   島根県  32000-5    717397    690560\n",
      "46   鳥取県  31000-0    588667    570569\n"
     ]
    }
   ],
   "source": [
    "# Excelファイルを開く\n",
    "filename = \"population.xlsx\"\n",
    "sheet_name = \"list-sjis.csv\"\n",
    "book = pd.read_excel(filename, sheet_name=sheet_name)\n",
    "\n",
    "# データを人口順に表示\n",
    "book.sort_values(by=\"法定人口\", ascending=False)\n",
    "print(book)"
   ]
  },
  {
   "cell_type": "markdown",
   "metadata": {},
   "source": [
    "# データベースについて"
   ]
  },
  {
   "cell_type": "markdown",
   "metadata": {},
   "source": [
    "## データベースについて"
   ]
  },
  {
   "cell_type": "markdown",
   "metadata": {},
   "source": [
    "データベースを使うと以下のメリットがある  \n",
    "1. データを一元管理できる  \n",
    "2. 様々なデータを関連づけて格納できる\n",
    "3. 重複データを認めないなど制約をつけてデータを格納できる  \n",
    "4. データの一貫性(整合性)を確保できる  \n",
    "5. 複数人でデータを共有できる  \n",
    "6. データへの同時アクセスを処理できる  \n",
    "7. 大量のデータでも、少しずつ読み出したり、並べ替えたりできる"
   ]
  },
  {
   "cell_type": "markdown",
   "metadata": {},
   "source": [
    "## データの保存にはどのデータベースが向いている？"
   ]
  },
  {
   "cell_type": "markdown",
   "metadata": {},
   "source": [
    "1. MySQL/MarinaDB  \n",
    "2. PostgreSQL  \n",
    "3. MongoDB(NoSQL)  \n",
    "4. TinyDB(NoSQL)  \n",
    "5. Microsofr SQLServer(商用)\n",
    "6. Oracle Deatabase(商用)\n",
    "7. SQLite"
   ]
  },
  {
   "cell_type": "markdown",
   "metadata": {},
   "source": [
    "### データベース"
   ]
  },
  {
   "cell_type": "markdown",
   "metadata": {},
   "source": [
    "データベースの中には、複数のテーブルがある。テーブルというのはExcelのシートに当たるもの。それは、行と列を持つ二次元のデータで構成されている。行のことをレコード(あるいは、ロー)と呼び、一つのレコードには、複数の列がある。この列のことを、カラム、あるいはフィールドと呼ばれる。\n",
    "\n",
    "データベースはExcelと変わらない印象を受けるが、異なるのは、テーブル同士を連結させて連動させることができる点である。また、Excelで扱えないような大量のデータがあっても容易に処理できるのも大きな違い。"
   ]
  },
  {
   "cell_type": "markdown",
   "metadata": {},
   "source": [
    "## SQLite - お手軽単体ファイルのデータベース"
   ]
  },
  {
   "cell_type": "code",
   "execution_count": 52,
   "metadata": {},
   "outputs": [],
   "source": [
    "import sqlite3"
   ]
  },
  {
   "cell_type": "code",
   "execution_count": 53,
   "metadata": {},
   "outputs": [],
   "source": [
    "# sqliteのデータベースに接続\n",
    "dbpath = \"test.sqlite\"\n",
    "conn = sqlite3.connect(dbpath)"
   ]
  },
  {
   "cell_type": "code",
   "execution_count": 54,
   "metadata": {
    "collapsed": true
   },
   "outputs": [
    {
     "data": {
      "text/plain": [
       "<sqlite3.Cursor at 0x110cf3f80>"
      ]
     },
     "execution_count": 54,
     "metadata": {},
     "output_type": "execute_result"
    }
   ],
   "source": [
    "# テーブルを作成し、データを挿入する\n",
    "# conn.cursor()でデータベースを操作するカーソルを取得した上で書き込む\n",
    "cur = conn.cursor()\n",
    "cur.executescript(\"\"\"\n",
    "/* itemsテーブルがすでにあれば削除する */\n",
    "DROP TABLE IF EXISTS items;\n",
    "\n",
    "/* テーブルの作成*/\n",
    "CREATE TABLE items(\n",
    "    item_id INTEGER PRIMARY KEY,\n",
    "    name TEXT UNIQUE,\n",
    "    price INTEGER\n",
    ");\n",
    "\n",
    "/* データを挿入 */\n",
    "INSERT INTO items(name, price)VALUES('apple', 800);\n",
    "INSERT INTO items(name, price)VALUES('Orange', 780);\n",
    "INSERT INTO items(name, price)VALUES('Banana', 430);\n",
    "\"\"\")"
   ]
  },
  {
   "cell_type": "code",
   "execution_count": 55,
   "metadata": {},
   "outputs": [],
   "source": [
    "# 上記の操作をデータベースに反映させる\n",
    "conn.commit()"
   ]
  },
  {
   "cell_type": "code",
   "execution_count": 58,
   "metadata": {},
   "outputs": [],
   "source": [
    "# データベースを抽出する\n",
    "# fetchall()で結果を全部取得できる\n",
    "# fetchone()で一つだけ結果を取得できる\n",
    "cur = conn.cursor()\n",
    "cur.execute(\"SELECT item_id, name, price FROM items\")\n",
    "item_list = cur.fetchall()"
   ]
  },
  {
   "cell_type": "code",
   "execution_count": 59,
   "metadata": {},
   "outputs": [
    {
     "name": "stdout",
     "output_type": "stream",
     "text": [
      "(1, 'apple', 800)\n",
      "(2, 'Orange', 780)\n",
      "(3, 'Banana', 430)\n"
     ]
    }
   ],
   "source": [
    "# 1行ずつ表示\n",
    "for it in item_list:\n",
    "    print(it)"
   ]
  },
  {
   "cell_type": "code",
   "execution_count": null,
   "metadata": {},
   "outputs": [],
   "source": []
  },
  {
   "cell_type": "code",
   "execution_count": null,
   "metadata": {},
   "outputs": [],
   "source": []
  },
  {
   "cell_type": "code",
   "execution_count": null,
   "metadata": {},
   "outputs": [],
   "source": []
  },
  {
   "cell_type": "code",
   "execution_count": null,
   "metadata": {},
   "outputs": [],
   "source": []
  },
  {
   "cell_type": "code",
   "execution_count": null,
   "metadata": {},
   "outputs": [],
   "source": []
  },
  {
   "cell_type": "code",
   "execution_count": null,
   "metadata": {},
   "outputs": [],
   "source": []
  },
  {
   "cell_type": "code",
   "execution_count": null,
   "metadata": {},
   "outputs": [],
   "source": []
  },
  {
   "cell_type": "code",
   "execution_count": null,
   "metadata": {},
   "outputs": [],
   "source": []
  },
  {
   "cell_type": "code",
   "execution_count": null,
   "metadata": {},
   "outputs": [],
   "source": []
  }
 ],
 "metadata": {
  "kernelspec": {
   "display_name": "Python 3",
   "language": "python",
   "name": "python3"
  },
  "language_info": {
   "codemirror_mode": {
    "name": "ipython",
    "version": 3
   },
   "file_extension": ".py",
   "mimetype": "text/x-python",
   "name": "python",
   "nbconvert_exporter": "python",
   "pygments_lexer": "ipython3",
   "version": "3.8.3"
  }
 },
 "nbformat": 4,
 "nbformat_minor": 4
}

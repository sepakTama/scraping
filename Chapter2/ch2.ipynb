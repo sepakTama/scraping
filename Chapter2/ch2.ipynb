{
 "cells": [
  {
   "cell_type": "markdown",
   "metadata": {},
   "source": [
    "# ログインの必要なサイトからダウンロード"
   ]
  },
  {
   "cell_type": "markdown",
   "metadata": {},
   "source": [
    "## HTTP通信について"
   ]
  },
  {
   "cell_type": "markdown",
   "metadata": {},
   "source": [
    "1. HTTP通信  \n",
    "ステートレスな通信とは、同じURLへのアクセスに対して、同じデータが返される通信を指している。以前どのようなデータをやり取りしたかなどの情報は保持されない。\n",
    "2. クッキーについて  \n",
    "Webブラウザーを通してサイトの訪問者のコンピュータに一時的なデータを書き込んで保存するための仕組み。一つのクッキーに保存できる最大データは、わずか4096バイトに制限されている。しかも、クッキーは、HTTP通信をヘッダーを介して入出力されることになっており、訪問者側で容易にデータの改変が可能である。\n",
    "3. セッションについて\n",
    "クッキーに保存するのは、訪問者に付与する固有のIDだけで、実際のデータはWebサーバー側に保存する、また、サーバー側にデータを保存するため、保存データのデータサイズを気にする必要はない。"
   ]
  },
  {
   "cell_type": "markdown",
   "metadata": {},
   "source": [
    "## requestsを使ってみよう"
   ]
  },
  {
   "cell_type": "code",
   "execution_count": 1,
   "metadata": {},
   "outputs": [],
   "source": [
    "import requests\n",
    "from bs4 import BeautifulSoup\n",
    "from urllib.parse import urljoin"
   ]
  },
  {
   "cell_type": "code",
   "execution_count": 2,
   "metadata": {},
   "outputs": [],
   "source": [
    "# ユーザー名とパスワードの指定\n",
    "USER = \"JS-TESTER\"\n",
    "PASS = \"ipCU12ySxI\""
   ]
  },
  {
   "cell_type": "code",
   "execution_count": 3,
   "metadata": {},
   "outputs": [],
   "source": [
    "# セッションを開始\n",
    "session = requests.session()"
   ]
  },
  {
   "cell_type": "code",
   "execution_count": 4,
   "metadata": {
    "scrolled": true
   },
   "outputs": [],
   "source": [
    "# ログイン\n",
    "login_info = {\n",
    "    \"username_mmlbbs6\": USER, # ユーザー名を指定\n",
    "    \"password_mmlbbs6\": PASS, # パスワードを指定\n",
    "    \"back\": \"index.php\", # ログイン時に指定する値\n",
    "    \"mml_id\": \"0\" # ログイン時に指定する値\n",
    "}\n",
    "url_login = \"https://uta.pw/sakusibbs/users.php?action=login&m=try\"\n",
    "res = session.post(url_login, data=login_info)\n",
    "res.raise_for_status() # エラーならここで例外を発生させる"
   ]
  },
  {
   "cell_type": "code",
   "execution_count": 5,
   "metadata": {},
   "outputs": [
    {
     "name": "stdout",
     "output_type": "stream",
     "text": [
      "マイページ = https://uta.pw/sakusibbs/users.php?user_id=32\n"
     ]
    }
   ],
   "source": [
    "# マイページのURLをピックアップする\n",
    "soup = BeautifulSoup(res.text, \"html.parser\")\n",
    "a = soup.select_one(\".islogin a\")\n",
    "if a is None:\n",
    "    print(\"マイページが取得できませんでした\")\n",
    "    quit()\n",
    "# 相対URLを絶対URLに変換\n",
    "url_mypage = urljoin(url_login, a.attrs[\"href\"])\n",
    "print(\"マイページ =\", url_mypage)"
   ]
  },
  {
   "cell_type": "code",
   "execution_count": 6,
   "metadata": {},
   "outputs": [],
   "source": [
    "# マイページにアクセス\n",
    "res = session.get(url_mypage)\n",
    "res.raise_for_status()"
   ]
  },
  {
   "cell_type": "code",
   "execution_count": 7,
   "metadata": {
    "scrolled": true
   },
   "outputs": [
    {
     "name": "stdout",
     "output_type": "stream",
     "text": [
      "- 今日も明日もJS三昧 by JS-TESTER > post.php?mml_id=161\n",
      "- 眠ってもデバッグ by JS-TESTER > post.php?mml_id=162\n",
      "- プリンとシュークリーム by JS-TESTER > post.php?mml_id=246\n",
      "- 吾輩はテスターである by JS-TESTER > post.php?mml_id=268\n",
      "- 吾輩はテスターである　その２ by JS-TESTER > post.php?mml_id=269\n",
      "- テスト by JS-TESTER > post.php?mml_id=816\n",
      "- ぱいソング by JS-TESTER > post.php?mml_id=845\n",
      "- Happy journey by Shibutsuki > post.php?mml_id=881\n",
      "- ひとりじゃない - Tyobi a long side Yulala by Tyobi > post.php?mml_id=882\n",
      "- もどかしいのよlove by 月城 麻里奈 > post.php?mml_id=867\n",
      "- もう貴方しか愛せない by 月城 麻里奈 > post.php?mml_id=868\n",
      "- それでも好きなんだよ？ by 月城 麻里奈 > post.php?mml_id=869\n",
      "- love悲しい愛のメロディ by 月城 麻里奈 > post.php?mml_id=870\n",
      "- 純愛花丸ロマンス by 月城 麻里奈 > post.php?mml_id=875\n",
      "- あなたが想い出にならなくて by 月城 麻里奈 > post.php?mml_id=876\n",
      "- 永遠の愛だと言ってよ by 月城 麻里奈 > post.php?mml_id=877\n",
      "- 指先からのlovelovelove by 月城 麻里奈 > post.php?mml_id=878\n",
      "- 愛におやすみなさい by 月城 麻里奈 > post.php?mml_id=880\n",
      "- 楽しいよ by FHU > post.php?mml_id=190\n",
      "- 劣等生の春 by FHU > post.php?mml_id=191\n",
      "- 一人歩き（ラップ） by FHU > post.php?mml_id=192\n",
      "- 一人歩き by FHU > post.php?mml_id=193\n",
      "- 10年 by FHU > post.php?mml_id=194\n",
      "- D×D（ドッグ、ドラッグ） by FHU > post.php?mml_id=195\n",
      "- 夏のフラダンス by FHU > post.php?mml_id=196\n",
      "- ノラビト by FHU > post.php?mml_id=197\n",
      "- 拝啓最低な僕へ by FHU > post.php?mml_id=198\n",
      "- Sadness sinner by 月城 麻里奈 > post.php?mml_id=792\n",
      "- 貴方が好きなんです by 月城 麻里奈 > post.php?mml_id=794\n",
      "- 天使の誘惑 by 月城 麻里奈 > post.php?mml_id=795\n",
      "- ヨハネの愛の黙示録 by 月城 麻里奈 > post.php?mml_id=818\n",
      "- 貴方のハートは私のモノ by 月城 麻里奈 > post.php?mml_id=819\n",
      "- 一滴の愛がキラリ by 月城 麻里奈 > post.php?mml_id=820\n",
      "- 少女Scramble by 月城 麻里奈 > post.php?mml_id=821\n",
      "- 嗚呼、人生あなた色 by 月城 麻里奈 > post.php?mml_id=822\n",
      "- 愛≒罪人 by 月城 麻里奈 > post.php?mml_id=823\n",
      "- Erotic Romans by 月城 麻里奈 > post.php?mml_id=824\n",
      "- 醜い顔のシンデレラ by 月城 麻里奈 > post.php?mml_id=825\n",
      "- 眠れない夜は会いたくて by 月城 麻里奈 > post.php?mml_id=830\n",
      "- 貴方の胸で眠りたい by 月城 麻里奈 > post.php?mml_id=831\n",
      "- 愛を眠らせて by 月城 麻里奈 > post.php?mml_id=832\n",
      "- kissで忘れさせて by 月城 麻里奈 > post.php?mml_id=833\n",
      "- 深紅のSecretmoon by 月城 麻里奈 > post.php?mml_id=834\n",
      "- 愛は冬の幻 by 月城 麻里奈 > post.php?mml_id=838\n",
      "- love dance with me by 月城 麻里奈 > post.php?mml_id=839\n",
      "- 可愛すぎだよAngel by 月城 麻里奈 > post.php?mml_id=840\n",
      "- chocolate honey by 月城 麻里奈 > post.php?mml_id=841\n",
      "- 最後の愛だったから by 月城 麻里奈 > post.php?mml_id=846\n",
      "- 美しい君が死んだら by 月城 麻里奈 > post.php?mml_id=849\n",
      "- 愛は切ない色情の香り by 月城 麻里奈 > post.php?mml_id=850\n"
     ]
    }
   ],
   "source": [
    "# お気に入りの詩のタイトルを列挙\n",
    "soup = BeautifulSoup(res.text, \"html.parser\")\n",
    "links = soup.select(\"#favlist li > a\")\n",
    "for a in links:\n",
    "    href = a.attrs[\"href\"]\n",
    "    title = a.get_text()\n",
    "    print(\"-\", title, \">\", href)"
   ]
  },
  {
   "cell_type": "markdown",
   "metadata": {},
   "source": [
    "### requestsモジュールのメソッド"
   ]
  },
  {
   "cell_type": "code",
   "execution_count": 8,
   "metadata": {},
   "outputs": [],
   "source": [
    "# GETメソッドを送信\n",
    "#r = requests.get(\"http://google.com\")\n",
    "# POSTメソッドを送信\n",
    "#formdata = {\"key1\": \"value1\", \"key2\": \"value2\"}\n",
    "#r = requests.post(\"http://example.com\", data=formdata)"
   ]
  },
  {
   "cell_type": "code",
   "execution_count": 9,
   "metadata": {},
   "outputs": [],
   "source": [
    "# PUT/DELETE/HEAD\n",
    "#r = requests.put(\"http://httpbin.org.put\")\n",
    "#r = requests.delete(\"http://httpbin.org/delete\")\n",
    "#r = requests.head(\"http://httpbin.org/get\")"
   ]
  },
  {
   "cell_type": "code",
   "execution_count": 10,
   "metadata": {},
   "outputs": [
    {
     "name": "stdout",
     "output_type": "stream",
     "text": [
      "<html lang=\"ja\">\r\n",
      "<head>\r\n",
      "<meta http-equiv=\"content-type\" content=\"text/html; charset=utf-8\">\r\n",
      "<title>404 - aoi.aoikujira.com</title>\r\n",
      "</head>\r\n",
      "<body>\r\n",
      "<h1>404 ãã¼ã¸ãè¦ã¤ããã¾ãã!</h1>\r\n",
      "<div>ååº¦ã<a href=\"/\">ããããã¼ã¸ãã</a>è¦ã¦ãã ããã</div>\r\n",
      "<div>\r\n",
      "    <ul>\r\n",
      "        <li><a href=\"https://kujirahand.com/\">ãããã¯ãã©</a></li>\r\n",
      "        <li><a href=\"https://nadesi.com/\">ãªã§ãã</a></li>\r\n",
      "    </ul>\r\n",
      "</div>\r\n",
      "\r\n",
      "<div>\r\n",
      "404ã¨ã©ã¼ï¼not foundï¼ã¨ã¯å­å¨ããªããã¼ã¸ã«ã¢ã¯ã»ã¹ããã¨ãã«ãµã¼ãã¼ããè¿ãããHTTP ã¬ã¹ãã³ã¹ã³ã¼ãã§ãã\r\n",
      "</div>\r\n",
      "<div>\r\n",
      "ãªãã<a href=\"https://api.aoikujira.com/index.php?fx\">çºæ¿æ",
      "å ±APIã«é¢ãã¦ã¯ããã¡ã</a>ã®ã¢ãã¦ã³ã¹ããè¦§ãã ããã\r\n",
      "</div>\r\n",
      "\r\n",
      "<div>\r\n",
      "<script async src=\"https://pagead2.googlesyndication.com/pagead/js/adsbygoogle.js\"></script>\r\n",
      "<!-- api.aoikujira.com/kawase -->\r\n",
      "<ins class=\"adsbygoogle\"\r\n",
      "     style=\"display:block\"\r\n",
      "     data-ad-client=\"ca-pub-3816223231062294\"\r\n",
      "     data-ad-slot=\"3559359805\"\r\n",
      "     data-ad-format=\"auto\"\r\n",
      "     data-full-width-responsive=\"true\"></ins>\r\n",
      "<script>\r\n",
      "     (adsbygoogle = window.adsbygoogle || []).push({});\r\n",
      "</script>\r\n",
      "</div>\r\n",
      "\r\n",
      "</body>\r\n",
      "</html>\r\n",
      "\n",
      "b'<html lang=\"ja\">\\r\\n<head>\\r\\n<meta http-equiv=\"content-type\" content=\"text/html; charset=utf-8\">\\r\\n<title>404 - aoi.aoikujira.com</title>\\r\\n</head>\\r\\n<body>\\r\\n<h1>404 \\xe3\\x83\\x9a\\xe3\\x83\\xbc\\xe3\\x82\\xb8\\xe3\\x81\\x8c\\xe8\\xa6\\x8b\\xe3\\x81\\xa4\\xe3\\x81\\x8b\\xe3\\x82\\x8a\\xe3\\x81\\xbe\\xe3\\x81\\x9b\\xe3\\x82\\x93!</h1>\\r\\n<div>\\xe5\\x86\\x8d\\xe5\\xba\\xa6\\xe3\\x80\\x81<a href=\"/\">\\xe3\\x83\\x88\\xe3\\x83\\x83\\xe3\\x83\\x97\\xe3\\x83\\x9a\\xe3\\x83\\xbc\\xe3\\x82\\xb8\\xe3\\x81\\x8b\\xe3\\x82\\x89</a>\\xe8\\xa6\\x8b\\xe3\\x81\\xa6\\xe3\\x81\\x8f\\xe3\\x81\\xa0\\xe3\\x81\\x95\\xe3\\x81\\x84\\xe3\\x80\\x82</div>\\r\\n<div>\\r\\n    <ul>\\r\\n        <li><a href=\"https://kujirahand.com/\">\\xe3\\x81\\x8f\\xe3\\x81\\x98\\xe3\\x82\\x89\\xe3\\x81\\xaf\\xe3\\x82\\x93\\xe3\\x81\\xa9</a></li>\\r\\n        <li><a href=\"https://nadesi.com/\">\\xe3\\x81\\xaa\\xe3\\x81\\xa7\\xe3\\x81\\x97\\xe3\\x81\\x93</a></li>\\r\\n    </ul>\\r\\n</div>\\r\\n\\r\\n<div>\\r\\n404\\xe3\\x82\\xa8\\xe3\\x83\\xa9\\xe3\\x83\\xbc\\xef\\xbc\\x88not found\\xef\\xbc\\x89\\xe3\\x81\\xa8\\xe3\\x81\\xaf\\xe5\\xad\\x98\\xe5\\x9c\\xa8\\xe3\\x81\\x97\\xe3\\x81\\xaa\\xe3\\x81\\x84\\xe3\\x83\\x9a\\xe3\\x83\\xbc\\xe3\\x82\\xb8\\xe3\\x81\\xab\\xe3\\x82\\xa2\\xe3\\x82\\xaf\\xe3\\x82\\xbb\\xe3\\x82\\xb9\\xe3\\x81\\x97\\xe3\\x81\\x9f\\xe3\\x81\\xa8\\xe3\\x81\\x8d\\xe3\\x81\\xab\\xe3\\x82\\xb5\\xe3\\x83\\xbc\\xe3\\x83\\x90\\xe3\\x83\\xbc\\xe3\\x81\\x8b\\xe3\\x82\\x89\\xe8\\xbf\\x94\\xe3\\x81\\x95\\xe3\\x82\\x8c\\xe3\\x82\\x8bHTTP \\xe3\\x83\\xac\\xe3\\x82\\xb9\\xe3\\x83\\x9d\\xe3\\x83\\xb3\\xe3\\x82\\xb9\\xe3\\x82\\xb3\\xe3\\x83\\xbc\\xe3\\x83\\x89\\xe3\\x81\\xa7\\xe3\\x81\\x99\\xe3\\x80\\x82\\r\\n</div>\\r\\n<div>\\r\\n\\xe3\\x81\\xaa\\xe3\\x81\\x8a\\xe3\\x80\\x81<a href=\"https://api.aoikujira.com/index.php?fx\">\\xe7\\x82\\xba\\xe6\\x9b\\xbf\\xe6\\x83\\x85\\xe5\\xa0\\xb1API\\xe3\\x81\\xab\\xe9\\x96\\xa2\\xe3\\x81\\x97\\xe3\\x81\\xa6\\xe3\\x81\\xaf\\xe3\\x80\\x81\\xe3\\x81\\x93\\xe3\\x81\\xa1\\xe3\\x82\\x89</a>\\xe3\\x81\\xae\\xe3\\x82\\xa2\\xe3\\x83\\x8a\\xe3\\x82\\xa6\\xe3\\x83\\xb3\\xe3\\x82\\xb9\\xe3\\x82\\x92\\xe3\\x81\\x94\\xe8\\xa6\\xa7\\xe3\\x81\\x8f\\xe3\\x81\\xa0\\xe3\\x81\\x95\\xe3\\x81\\x84\\xe3\\x80\\x82\\r\\n</div>\\r\\n\\r\\n<div>\\r\\n<script async src=\"https://pagead2.googlesyndication.com/pagead/js/adsbygoogle.js\"></script>\\r\\n<!-- api.aoikujira.com/kawase -->\\r\\n<ins class=\"adsbygoogle\"\\r\\n     style=\"display:block\"\\r\\n     data-ad-client=\"ca-pub-3816223231062294\"\\r\\n     data-ad-slot=\"3559359805\"\\r\\n     data-ad-format=\"auto\"\\r\\n     data-full-width-responsive=\"true\"></ins>\\r\\n<script>\\r\\n     (adsbygoogle = window.adsbygoogle || []).push({});\\r\\n</script>\\r\\n</div>\\r\\n\\r\\n</body>\\r\\n</html>\\r\\n'\n"
     ]
    }
   ],
   "source": [
    "# データを取得\n",
    "r = requests.get(\"http://api.aoikujira.com/tiem/get.php\")\n",
    "\n",
    "# テキスト形式でデータを得る\n",
    "text = r.text\n",
    "print(text)\n",
    "\n",
    "# バイナリ形式でデータを得る\n",
    "bin = r.content\n",
    "print(bin)\n",
    "\n",
    "# b'...'の形式はpythondeバイナリであることを表している"
   ]
  },
  {
   "cell_type": "code",
   "execution_count": 11,
   "metadata": {},
   "outputs": [
    {
     "name": "stdout",
     "output_type": "stream",
     "text": [
      "saved\n"
     ]
    }
   ],
   "source": [
    "# 画像データを取得\n",
    "r = requests.get(\"http://uta.pw/shadou/img/3/3.png\")\n",
    "\n",
    "# バイナリ形式でデータを得て保存\n",
    "with open(\"test.png\", \"wb\") as f:\n",
    "    f.write(r.content)\n",
    "print(\"saved\")"
   ]
  },
  {
   "cell_type": "markdown",
   "metadata": {},
   "source": [
    "## ログイン時に送信しているデータを調べる"
   ]
  },
  {
   "cell_type": "markdown",
   "metadata": {},
   "source": [
    "1. 開発者ツールの検証から[Network]をクリックする。  \n",
    "2. ログインする。  \n",
    "3. HeadersのForm DataあるいはQuery String Parametersにやり取りされたデータが表示されている。"
   ]
  },
  {
   "cell_type": "markdown",
   "metadata": {},
   "source": [
    "# ブラウザを経由したスクレイピング"
   ]
  },
  {
   "cell_type": "markdown",
   "metadata": {},
   "source": [
    "今まではHTMLやCSSを用いたブラウザを経由しないでもアクセスできるものに対して扱っていたが、今度はJavaScriptを多用したサイトではブラウザを利用しないと正しく動作させることができず、requestsモジュールだけで対処するのは難しい。"
   ]
  },
  {
   "cell_type": "markdown",
   "metadata": {},
   "source": [
    "## 画面なしブラウザー「PhantomJS」について"
   ]
  },
  {
   "cell_type": "markdown",
   "metadata": {},
   "source": [
    "PhantomJSを利用するなら、コマンドラインからWebブラウザを操作して、ブラウザ内に表示されるデータを取得したり、スクリーンショットを撮ったりすることができる。"
   ]
  },
  {
   "cell_type": "code",
   "execution_count": 12,
   "metadata": {},
   "outputs": [],
   "source": [
    "from selenium import webdriver"
   ]
  },
  {
   "cell_type": "code",
   "execution_count": 13,
   "metadata": {},
   "outputs": [],
   "source": [
    "url = \"http://www.aozora.gr.jp/cards/000081/files/46268_23911.html\""
   ]
  },
  {
   "cell_type": "code",
   "execution_count": 14,
   "metadata": {},
   "outputs": [
    {
     "name": "stderr",
     "output_type": "stream",
     "text": [
      "/Users/tamai/python/Scraping_MachineLearning/env-scraping/lib/python3.8/site-packages/selenium/webdriver/phantomjs/webdriver.py:49: UserWarning: Selenium support for PhantomJS has been deprecated, please use headless versions of Chrome or Firefox instead\n",
      "  warnings.warn('Selenium support for PhantomJS has been deprecated, please use headless '\n"
     ]
    },
    {
     "ename": "OSError",
     "evalue": "[Errno 8] Exec format error: 'phantomjs'",
     "output_type": "error",
     "traceback": [
      "\u001b[0;31m---------------------------------------------------------------------------\u001b[0m",
      "\u001b[0;31mOSError\u001b[0m                                   Traceback (most recent call last)",
      "\u001b[0;32m<ipython-input-14-6d0b2d6c5032>\u001b[0m in \u001b[0;36m<module>\u001b[0;34m\u001b[0m\n\u001b[1;32m      1\u001b[0m \u001b[0;31m# PhantomJSのドライバを得る\u001b[0m\u001b[0;34m\u001b[0m\u001b[0;34m\u001b[0m\u001b[0;34m\u001b[0m\u001b[0m\n\u001b[0;32m----> 2\u001b[0;31m \u001b[0mbrowser\u001b[0m \u001b[0;34m=\u001b[0m \u001b[0mwebdriver\u001b[0m\u001b[0;34m.\u001b[0m\u001b[0mPhantomJS\u001b[0m\u001b[0;34m(\u001b[0m\u001b[0;34m)\u001b[0m\u001b[0;34m\u001b[0m\u001b[0;34m\u001b[0m\u001b[0m\n\u001b[0m\u001b[1;32m      3\u001b[0m \u001b[0;31m# 暗黙的な大気を最大3秒おこなう\u001b[0m\u001b[0;34m\u001b[0m\u001b[0;34m\u001b[0m\u001b[0;34m\u001b[0m\u001b[0m\n\u001b[1;32m      4\u001b[0m \u001b[0mbrowser\u001b[0m\u001b[0;34m.\u001b[0m\u001b[0mimplicitly_wait\u001b[0m\u001b[0;34m(\u001b[0m\u001b[0;36m3\u001b[0m\u001b[0;34m)\u001b[0m\u001b[0;34m\u001b[0m\u001b[0;34m\u001b[0m\u001b[0m\n\u001b[1;32m      5\u001b[0m \u001b[0;31m# URLを読み込む\u001b[0m\u001b[0;34m\u001b[0m\u001b[0;34m\u001b[0m\u001b[0;34m\u001b[0m\u001b[0m\n",
      "\u001b[0;32m~/python/Scraping_MachineLearning/env-scraping/lib/python3.8/site-packages/selenium/webdriver/phantomjs/webdriver.py\u001b[0m in \u001b[0;36m__init__\u001b[0;34m(self, executable_path, port, desired_capabilities, service_args, service_log_path)\u001b[0m\n\u001b[1;32m     54\u001b[0m             \u001b[0mservice_args\u001b[0m\u001b[0;34m=\u001b[0m\u001b[0mservice_args\u001b[0m\u001b[0;34m,\u001b[0m\u001b[0;34m\u001b[0m\u001b[0;34m\u001b[0m\u001b[0m\n\u001b[1;32m     55\u001b[0m             log_path=service_log_path)\n\u001b[0;32m---> 56\u001b[0;31m         \u001b[0mself\u001b[0m\u001b[0;34m.\u001b[0m\u001b[0mservice\u001b[0m\u001b[0;34m.\u001b[0m\u001b[0mstart\u001b[0m\u001b[0;34m(\u001b[0m\u001b[0;34m)\u001b[0m\u001b[0;34m\u001b[0m\u001b[0;34m\u001b[0m\u001b[0m\n\u001b[0m\u001b[1;32m     57\u001b[0m \u001b[0;34m\u001b[0m\u001b[0m\n\u001b[1;32m     58\u001b[0m         \u001b[0;32mtry\u001b[0m\u001b[0;34m:\u001b[0m\u001b[0;34m\u001b[0m\u001b[0;34m\u001b[0m\u001b[0m\n",
      "\u001b[0;32m~/python/Scraping_MachineLearning/env-scraping/lib/python3.8/site-packages/selenium/webdriver/common/service.py\u001b[0m in \u001b[0;36mstart\u001b[0;34m(self)\u001b[0m\n\u001b[1;32m     70\u001b[0m             \u001b[0mcmd\u001b[0m \u001b[0;34m=\u001b[0m \u001b[0;34m[\u001b[0m\u001b[0mself\u001b[0m\u001b[0;34m.\u001b[0m\u001b[0mpath\u001b[0m\u001b[0;34m]\u001b[0m\u001b[0;34m\u001b[0m\u001b[0;34m\u001b[0m\u001b[0m\n\u001b[1;32m     71\u001b[0m             \u001b[0mcmd\u001b[0m\u001b[0;34m.\u001b[0m\u001b[0mextend\u001b[0m\u001b[0;34m(\u001b[0m\u001b[0mself\u001b[0m\u001b[0;34m.\u001b[0m\u001b[0mcommand_line_args\u001b[0m\u001b[0;34m(\u001b[0m\u001b[0;34m)\u001b[0m\u001b[0;34m)\u001b[0m\u001b[0;34m\u001b[0m\u001b[0;34m\u001b[0m\u001b[0m\n\u001b[0;32m---> 72\u001b[0;31m             self.process = subprocess.Popen(cmd, env=self.env,\n\u001b[0m\u001b[1;32m     73\u001b[0m                                             \u001b[0mclose_fds\u001b[0m\u001b[0;34m=\u001b[0m\u001b[0mplatform\u001b[0m\u001b[0;34m.\u001b[0m\u001b[0msystem\u001b[0m\u001b[0;34m(\u001b[0m\u001b[0;34m)\u001b[0m \u001b[0;34m!=\u001b[0m \u001b[0;34m'Windows'\u001b[0m\u001b[0;34m,\u001b[0m\u001b[0;34m\u001b[0m\u001b[0;34m\u001b[0m\u001b[0m\n\u001b[1;32m     74\u001b[0m                                             \u001b[0mstdout\u001b[0m\u001b[0;34m=\u001b[0m\u001b[0mself\u001b[0m\u001b[0;34m.\u001b[0m\u001b[0mlog_file\u001b[0m\u001b[0;34m,\u001b[0m\u001b[0;34m\u001b[0m\u001b[0;34m\u001b[0m\u001b[0m\n",
      "\u001b[0;32m~/.pyenv/versions/3.8.3/lib/python3.8/subprocess.py\u001b[0m in \u001b[0;36m__init__\u001b[0;34m(self, args, bufsize, executable, stdin, stdout, stderr, preexec_fn, close_fds, shell, cwd, env, universal_newlines, startupinfo, creationflags, restore_signals, start_new_session, pass_fds, encoding, errors, text)\u001b[0m\n\u001b[1;32m    852\u001b[0m                             encoding=encoding, errors=errors)\n\u001b[1;32m    853\u001b[0m \u001b[0;34m\u001b[0m\u001b[0m\n\u001b[0;32m--> 854\u001b[0;31m             self._execute_child(args, executable, preexec_fn, close_fds,\n\u001b[0m\u001b[1;32m    855\u001b[0m                                 \u001b[0mpass_fds\u001b[0m\u001b[0;34m,\u001b[0m \u001b[0mcwd\u001b[0m\u001b[0;34m,\u001b[0m \u001b[0menv\u001b[0m\u001b[0;34m,\u001b[0m\u001b[0;34m\u001b[0m\u001b[0;34m\u001b[0m\u001b[0m\n\u001b[1;32m    856\u001b[0m                                 \u001b[0mstartupinfo\u001b[0m\u001b[0;34m,\u001b[0m \u001b[0mcreationflags\u001b[0m\u001b[0;34m,\u001b[0m \u001b[0mshell\u001b[0m\u001b[0;34m,\u001b[0m\u001b[0;34m\u001b[0m\u001b[0;34m\u001b[0m\u001b[0m\n",
      "\u001b[0;32m~/.pyenv/versions/3.8.3/lib/python3.8/subprocess.py\u001b[0m in \u001b[0;36m_execute_child\u001b[0;34m(self, args, executable, preexec_fn, close_fds, pass_fds, cwd, env, startupinfo, creationflags, shell, p2cread, p2cwrite, c2pread, c2pwrite, errread, errwrite, restore_signals, start_new_session)\u001b[0m\n\u001b[1;32m   1700\u001b[0m                     \u001b[0;32mif\u001b[0m \u001b[0merrno_num\u001b[0m \u001b[0;34m!=\u001b[0m \u001b[0;36m0\u001b[0m\u001b[0;34m:\u001b[0m\u001b[0;34m\u001b[0m\u001b[0;34m\u001b[0m\u001b[0m\n\u001b[1;32m   1701\u001b[0m                         \u001b[0merr_msg\u001b[0m \u001b[0;34m=\u001b[0m \u001b[0mos\u001b[0m\u001b[0;34m.\u001b[0m\u001b[0mstrerror\u001b[0m\u001b[0;34m(\u001b[0m\u001b[0merrno_num\u001b[0m\u001b[0;34m)\u001b[0m\u001b[0;34m\u001b[0m\u001b[0;34m\u001b[0m\u001b[0m\n\u001b[0;32m-> 1702\u001b[0;31m                     \u001b[0;32mraise\u001b[0m \u001b[0mchild_exception_type\u001b[0m\u001b[0;34m(\u001b[0m\u001b[0merrno_num\u001b[0m\u001b[0;34m,\u001b[0m \u001b[0merr_msg\u001b[0m\u001b[0;34m,\u001b[0m \u001b[0merr_filename\u001b[0m\u001b[0;34m)\u001b[0m\u001b[0;34m\u001b[0m\u001b[0;34m\u001b[0m\u001b[0m\n\u001b[0m\u001b[1;32m   1703\u001b[0m                 \u001b[0;32mraise\u001b[0m \u001b[0mchild_exception_type\u001b[0m\u001b[0;34m(\u001b[0m\u001b[0merr_msg\u001b[0m\u001b[0;34m)\u001b[0m\u001b[0;34m\u001b[0m\u001b[0;34m\u001b[0m\u001b[0m\n\u001b[1;32m   1704\u001b[0m \u001b[0;34m\u001b[0m\u001b[0m\n",
      "\u001b[0;31mOSError\u001b[0m: [Errno 8] Exec format error: 'phantomjs'"
     ]
    }
   ],
   "source": [
    "# PhantomJSのドライバを得る\n",
    "browser = webdriver.PhantomJS()\n",
    "# 暗黙的な大気を最大3秒おこなう\n",
    "browser.implicitly_wait(3)\n",
    "# URLを読み込む\n",
    "browser.get(url)\n",
    "# 画面をキャプチャしてファイルに保存\n",
    "browser.save_screenshot(\"website.png\")\n",
    "# ブラウザーを終了\n",
    "browser.quit()"
   ]
  },
  {
   "cell_type": "code",
   "execution_count": 16,
   "metadata": {},
   "outputs": [
    {
     "name": "stderr",
     "output_type": "stream",
     "text": [
      "/Users/tamai/python/Scraping_MachineLearning/env-scraping/lib/python3.8/site-packages/selenium/webdriver/phantomjs/webdriver.py:49: UserWarning: Selenium support for PhantomJS has been deprecated, please use headless versions of Chrome or Firefox instead\n",
      "  warnings.warn('Selenium support for PhantomJS has been deprecated, please use headless '\n"
     ]
    },
    {
     "ename": "OSError",
     "evalue": "[Errno 8] Exec format error: 'phantomjs'",
     "output_type": "error",
     "traceback": [
      "\u001b[0;31m---------------------------------------------------------------------------\u001b[0m",
      "\u001b[0;31mOSError\u001b[0m                                   Traceback (most recent call last)",
      "\u001b[0;32m<ipython-input-16-8a388e4f3d66>\u001b[0m in \u001b[0;36m<module>\u001b[0;34m\u001b[0m\n\u001b[1;32m      1\u001b[0m \u001b[0;31m# PhantomJSのドライバを得る\u001b[0m\u001b[0;34m\u001b[0m\u001b[0;34m\u001b[0m\u001b[0;34m\u001b[0m\u001b[0m\n\u001b[0;32m----> 2\u001b[0;31m \u001b[0mbrowser\u001b[0m \u001b[0;34m=\u001b[0m \u001b[0mwebdriver\u001b[0m\u001b[0;34m.\u001b[0m\u001b[0mPhantomJS\u001b[0m\u001b[0;34m(\u001b[0m\u001b[0;34m)\u001b[0m\u001b[0;34m\u001b[0m\u001b[0;34m\u001b[0m\u001b[0m\n\u001b[0m",
      "\u001b[0;32m~/python/Scraping_MachineLearning/env-scraping/lib/python3.8/site-packages/selenium/webdriver/phantomjs/webdriver.py\u001b[0m in \u001b[0;36m__init__\u001b[0;34m(self, executable_path, port, desired_capabilities, service_args, service_log_path)\u001b[0m\n\u001b[1;32m     54\u001b[0m             \u001b[0mservice_args\u001b[0m\u001b[0;34m=\u001b[0m\u001b[0mservice_args\u001b[0m\u001b[0;34m,\u001b[0m\u001b[0;34m\u001b[0m\u001b[0;34m\u001b[0m\u001b[0m\n\u001b[1;32m     55\u001b[0m             log_path=service_log_path)\n\u001b[0;32m---> 56\u001b[0;31m         \u001b[0mself\u001b[0m\u001b[0;34m.\u001b[0m\u001b[0mservice\u001b[0m\u001b[0;34m.\u001b[0m\u001b[0mstart\u001b[0m\u001b[0;34m(\u001b[0m\u001b[0;34m)\u001b[0m\u001b[0;34m\u001b[0m\u001b[0;34m\u001b[0m\u001b[0m\n\u001b[0m\u001b[1;32m     57\u001b[0m \u001b[0;34m\u001b[0m\u001b[0m\n\u001b[1;32m     58\u001b[0m         \u001b[0;32mtry\u001b[0m\u001b[0;34m:\u001b[0m\u001b[0;34m\u001b[0m\u001b[0;34m\u001b[0m\u001b[0m\n",
      "\u001b[0;32m~/python/Scraping_MachineLearning/env-scraping/lib/python3.8/site-packages/selenium/webdriver/common/service.py\u001b[0m in \u001b[0;36mstart\u001b[0;34m(self)\u001b[0m\n\u001b[1;32m     70\u001b[0m             \u001b[0mcmd\u001b[0m \u001b[0;34m=\u001b[0m \u001b[0;34m[\u001b[0m\u001b[0mself\u001b[0m\u001b[0;34m.\u001b[0m\u001b[0mpath\u001b[0m\u001b[0;34m]\u001b[0m\u001b[0;34m\u001b[0m\u001b[0;34m\u001b[0m\u001b[0m\n\u001b[1;32m     71\u001b[0m             \u001b[0mcmd\u001b[0m\u001b[0;34m.\u001b[0m\u001b[0mextend\u001b[0m\u001b[0;34m(\u001b[0m\u001b[0mself\u001b[0m\u001b[0;34m.\u001b[0m\u001b[0mcommand_line_args\u001b[0m\u001b[0;34m(\u001b[0m\u001b[0;34m)\u001b[0m\u001b[0;34m)\u001b[0m\u001b[0;34m\u001b[0m\u001b[0;34m\u001b[0m\u001b[0m\n\u001b[0;32m---> 72\u001b[0;31m             self.process = subprocess.Popen(cmd, env=self.env,\n\u001b[0m\u001b[1;32m     73\u001b[0m                                             \u001b[0mclose_fds\u001b[0m\u001b[0;34m=\u001b[0m\u001b[0mplatform\u001b[0m\u001b[0;34m.\u001b[0m\u001b[0msystem\u001b[0m\u001b[0;34m(\u001b[0m\u001b[0;34m)\u001b[0m \u001b[0;34m!=\u001b[0m \u001b[0;34m'Windows'\u001b[0m\u001b[0;34m,\u001b[0m\u001b[0;34m\u001b[0m\u001b[0;34m\u001b[0m\u001b[0m\n\u001b[1;32m     74\u001b[0m                                             \u001b[0mstdout\u001b[0m\u001b[0;34m=\u001b[0m\u001b[0mself\u001b[0m\u001b[0;34m.\u001b[0m\u001b[0mlog_file\u001b[0m\u001b[0;34m,\u001b[0m\u001b[0;34m\u001b[0m\u001b[0;34m\u001b[0m\u001b[0m\n",
      "\u001b[0;32m~/.pyenv/versions/3.8.3/lib/python3.8/subprocess.py\u001b[0m in \u001b[0;36m__init__\u001b[0;34m(self, args, bufsize, executable, stdin, stdout, stderr, preexec_fn, close_fds, shell, cwd, env, universal_newlines, startupinfo, creationflags, restore_signals, start_new_session, pass_fds, encoding, errors, text)\u001b[0m\n\u001b[1;32m    852\u001b[0m                             encoding=encoding, errors=errors)\n\u001b[1;32m    853\u001b[0m \u001b[0;34m\u001b[0m\u001b[0m\n\u001b[0;32m--> 854\u001b[0;31m             self._execute_child(args, executable, preexec_fn, close_fds,\n\u001b[0m\u001b[1;32m    855\u001b[0m                                 \u001b[0mpass_fds\u001b[0m\u001b[0;34m,\u001b[0m \u001b[0mcwd\u001b[0m\u001b[0;34m,\u001b[0m \u001b[0menv\u001b[0m\u001b[0;34m,\u001b[0m\u001b[0;34m\u001b[0m\u001b[0;34m\u001b[0m\u001b[0m\n\u001b[1;32m    856\u001b[0m                                 \u001b[0mstartupinfo\u001b[0m\u001b[0;34m,\u001b[0m \u001b[0mcreationflags\u001b[0m\u001b[0;34m,\u001b[0m \u001b[0mshell\u001b[0m\u001b[0;34m,\u001b[0m\u001b[0;34m\u001b[0m\u001b[0;34m\u001b[0m\u001b[0m\n",
      "\u001b[0;32m~/.pyenv/versions/3.8.3/lib/python3.8/subprocess.py\u001b[0m in \u001b[0;36m_execute_child\u001b[0;34m(self, args, executable, preexec_fn, close_fds, pass_fds, cwd, env, startupinfo, creationflags, shell, p2cread, p2cwrite, c2pread, c2pwrite, errread, errwrite, restore_signals, start_new_session)\u001b[0m\n\u001b[1;32m   1700\u001b[0m                     \u001b[0;32mif\u001b[0m \u001b[0merrno_num\u001b[0m \u001b[0;34m!=\u001b[0m \u001b[0;36m0\u001b[0m\u001b[0;34m:\u001b[0m\u001b[0;34m\u001b[0m\u001b[0;34m\u001b[0m\u001b[0m\n\u001b[1;32m   1701\u001b[0m                         \u001b[0merr_msg\u001b[0m \u001b[0;34m=\u001b[0m \u001b[0mos\u001b[0m\u001b[0;34m.\u001b[0m\u001b[0mstrerror\u001b[0m\u001b[0;34m(\u001b[0m\u001b[0merrno_num\u001b[0m\u001b[0;34m)\u001b[0m\u001b[0;34m\u001b[0m\u001b[0;34m\u001b[0m\u001b[0m\n\u001b[0;32m-> 1702\u001b[0;31m                     \u001b[0;32mraise\u001b[0m \u001b[0mchild_exception_type\u001b[0m\u001b[0;34m(\u001b[0m\u001b[0merrno_num\u001b[0m\u001b[0;34m,\u001b[0m \u001b[0merr_msg\u001b[0m\u001b[0;34m,\u001b[0m \u001b[0merr_filename\u001b[0m\u001b[0;34m)\u001b[0m\u001b[0;34m\u001b[0m\u001b[0;34m\u001b[0m\u001b[0m\n\u001b[0m\u001b[1;32m   1703\u001b[0m                 \u001b[0;32mraise\u001b[0m \u001b[0mchild_exception_type\u001b[0m\u001b[0;34m(\u001b[0m\u001b[0merr_msg\u001b[0m\u001b[0;34m)\u001b[0m\u001b[0;34m\u001b[0m\u001b[0;34m\u001b[0m\u001b[0m\n\u001b[1;32m   1704\u001b[0m \u001b[0;34m\u001b[0m\u001b[0m\n",
      "\u001b[0;31mOSError\u001b[0m: [Errno 8] Exec format error: 'phantomjs'"
     ]
    }
   ],
   "source": [
    "# PhantomJSのドライバを得る\n",
    "browser = webdriver.PhantomJS()"
   ]
  },
  {
   "cell_type": "code",
   "execution_count": null,
   "metadata": {},
   "outputs": [],
   "source": []
  },
  {
   "cell_type": "code",
   "execution_count": null,
   "metadata": {},
   "outputs": [],
   "source": []
  },
  {
   "cell_type": "code",
   "execution_count": null,
   "metadata": {},
   "outputs": [],
   "source": []
  },
  {
   "cell_type": "code",
   "execution_count": null,
   "metadata": {},
   "outputs": [],
   "source": []
  },
  {
   "cell_type": "code",
   "execution_count": null,
   "metadata": {},
   "outputs": [],
   "source": []
  },
  {
   "cell_type": "code",
   "execution_count": null,
   "metadata": {},
   "outputs": [],
   "source": []
  },
  {
   "cell_type": "code",
   "execution_count": null,
   "metadata": {},
   "outputs": [],
   "source": []
  },
  {
   "cell_type": "code",
   "execution_count": null,
   "metadata": {},
   "outputs": [],
   "source": []
  }
 ],
 "metadata": {
  "kernelspec": {
   "display_name": "Python 3",
   "language": "python",
   "name": "python3"
  },
  "language_info": {
   "codemirror_mode": {
    "name": "ipython",
    "version": 3
   },
   "file_extension": ".py",
   "mimetype": "text/x-python",
   "name": "python",
   "nbconvert_exporter": "python",
   "pygments_lexer": "ipython3",
   "version": "3.8.3"
  }
 },
 "nbformat": 4,
 "nbformat_minor": 4
}

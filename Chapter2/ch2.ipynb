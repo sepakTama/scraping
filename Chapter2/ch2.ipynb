{
 "cells": [
  {
   "cell_type": "markdown",
   "metadata": {},
   "source": [
    "# ログインの必要なサイトからダウンロード"
   ]
  },
  {
   "cell_type": "markdown",
   "metadata": {},
   "source": [
    "## HTTP通信について"
   ]
  },
  {
   "cell_type": "markdown",
   "metadata": {},
   "source": [
    "1. HTTP通信  \n",
    "ステートレスな通信とは、同じURLへのアクセスに対して、同じデータが返される通信を指している。以前どのようなデータをやり取りしたかなどの情報は保持されない。\n",
    "2. クッキーについて  \n",
    "Webブラウザーを通してサイトの訪問者のコンピュータに一時的なデータを書き込んで保存するための仕組み。一つのクッキーに保存できる最大データは、わずか4096バイトに制限されている。しかも、クッキーは、HTTP数新んおヘッダーを介して入出力されることになっており、訪問者側で容易にデータの改変が可能である。\n",
    "3. セッションについて\n",
    "クッキーに保存するのは、訪問者に付与する固有のIDだけで、実際のデータはWebサーバー側に保存する、また、サーバー側にデータを保存するため、保存データのデータサイズを気にする必要はない。"
   ]
  },
  {
   "cell_type": "markdown",
   "metadata": {},
   "source": [
    "## requestsを使ってみよう"
   ]
  },
  {
   "cell_type": "code",
   "execution_count": 8,
   "metadata": {},
   "outputs": [],
   "source": [
    "import requests\n",
    "from bs4 import BeautifulSoup\n",
    "from urllib.parse import urljoin"
   ]
  },
  {
   "cell_type": "code",
   "execution_count": 17,
   "metadata": {},
   "outputs": [],
   "source": [
    "# ユーザー名とパスワードの指定\n",
    "USER = \"JS-TESTER\"\n",
    "PASS = \"ipCU12ySxI\""
   ]
  },
  {
   "cell_type": "code",
   "execution_count": 18,
   "metadata": {},
   "outputs": [],
   "source": [
    "# セッションを開始\n",
    "session = requests.session()"
   ]
  },
  {
   "cell_type": "code",
   "execution_count": 19,
   "metadata": {},
   "outputs": [],
   "source": [
    "# ログイン\n",
    "login_info = {\n",
    "    \"username_mmlbbs6\": USER, # ユーザー名を指定\n",
    "    \"password_mmlbbs6\": PASS, # パスワードを指定\n",
    "    \"back\": \"index.php\", # ログイン時に指定する値\n",
    "    \"mml_id\": \"0\" # ログイン時に指定する値\n",
    "}\n",
    "url_login = \"http://uta.pw/sakusibbs/users.php?action=login&m=try\"\n",
    "res = session.post(url_login, data=login_info)\n",
    "res.raise_for_status() # エラーならここで例外を発生させる"
   ]
  },
  {
   "cell_type": "code",
   "execution_count": 6,
   "metadata": {},
   "outputs": [
    {
     "name": "stdout",
     "output_type": "stream",
     "text": [
      "<!DOCTYPE html>\n",
      "\n",
      "<html>\n",
      "<head>\n",
      "<meta content=\"text/html; charset=utf-8\" http-equiv=\"Content-Type\"/>\n",
      "<meta content=\"width=960, initial-scale=1, minimum-scale=1\" name=\"viewport\"/>\n",
      "<link href=\"resource/konawiki3.css\" rel=\"stylesheet\" type=\"text/css\"/>\n",
      "<meta content=\"作詞,歌,歌詞,作詞掲示板,掲示板,アーティスト,同人,短歌,ポエム,言葉,ことば\" name=\"keywords\"/>\n",
      "<meta content=\"作詞掲示板は自作の詞を投稿してみんなで楽しむ掲示板です。\" name=\"description\"/>\n",
      "<title>ログイン - 作詞掲示板(uta.pw)</title>\n",
      "<meta content=\"width=device-width\" name=\"viewport\"/>\n",
      "<!-- facebook -->\n",
      "<meta content=\"ログイン - 作詞掲示板(uta.pw)\" property=\"og:title\">\n",
      "<meta content=\"website\" property=\"og:type\">\n",
      "<meta content=\"http://uta.pw/sakusibbs/users.php?action=login&amp;m=try\" property=\"og:url\">\n",
      "<meta content=\"http://uta.pw/sakusibbs/resource/image-sakusibbs.png\" property=\"og:image\">\n",
      "<meta content=\"自作の詞を投稿できる作詞掲示板\" property=\"og:description\">\n",
      "<meta content=\"作詞掲示板(uta.pw)\" property=\"og:site_name\"/>\n",
      "<!-- /facebook -->\n",
      "</meta></meta></meta></meta></meta></head>\n",
      "<body>\n",
      "<div id=\"bbsheader\">\n",
      "<div style=\"text-align:center;\">\n",
      "<div style=\"width:960px; margin-left:auto; margin-right:auto;\">\n",
      "<div id=\"site-descript\">\n",
      "        作詞掲示板「uta.pw」は自作の詞を投稿してみんなで楽しむ掲示板です。\n",
      "      </div>\n",
      "<div id=\"header_menu\">\n",
      "<a href=\"http://uta.pw/\">トップ</a> |\n",
      "        <a href=\"http://uta.pw/sakusibbs/\">掲示板トップ</a> |\n",
      "        [<a href=\"./users.php?action=login&amp;\">ログイン</a>] |\n",
      "      </div>\n",
      "<h1 class=\"headertitle\" style=\"text-align:left;\">\n",
      "<a href=\"http://uta.pw/sakusibbs/\">\n",
      "<img alt=\"作詞掲示板(uta.pw)\" height=\"40\" src=\"resource/sakusibbs.png\" width=\"113\"/></a>\n",
      "</h1>\n",
      "<div id=\"header_menu_linkbar\">\n",
      "        [<a href=\"./users.php?action=login&amp;\">ログイン</a>] &gt; \n",
      "        [<a href=\"./\">掲示板トップ</a>]\n",
      "        [<a href=\"./post.php?action=edit\">作品の投稿</a>]\n",
      "        [<a href=\"./users.php\">ユーザー一覧</a>]\n",
      "        [<a href=\"./index.php?action=fav_memory\">名作アーカイブ</a>]\n",
      "        [<a href=\"./search.php\">検索とタグ</a>]\n",
      "        [<a href=\"./license.php\">利用規約</a>]\n",
      "        --\n",
      "        [<a href=\"https://sakuramml.com/mmlbbs6\">作曲掲示板</a>]\n",
      "        [<a href=\"http://kujirahand.com/web-tools/Words.php\">作詞支援ツール</a>]\n",
      "        [<a href=\"http://uta.pw/shodou/\">書道掲示板(新)</a>]\n",
      "      </div>\n",
      "<!--\n",
      "      <div style=\"font-size:0.8em;color:silver;\">2017/12/18 -- 掲示板の不具合修正しました。ご迷惑おかけしました。</div>\n",
      "-->\n",
      "</div>\n",
      "</div>\n",
      "</div>\n",
      "<!-- body-main -->\n",
      "<div id=\"body-main\" style=\"text-align:center;\">\n",
      "<div style=\"margin-left:auto; margin-right:auto; width:960px; text-align:left;\">\n",
      "<div id=\"loginForm\">\n",
      "<h2>ログインのお願い</h2>\n",
      "<div style=\"color:gray;\">曲を投稿したり、感想を書くためには、「uta.pw」アカウントでログインします。</div>\n",
      "<form action=\"users.php?action=login&amp;m=try\" method=\"post\">\n",
      "<table>\n",
      "<tr><td>ユーザー名</td><td><input id=\"user\" name=\"username_mmlbbs6\" size=\"12\" type=\"text\" value=\"\"/></td></tr>\n",
      "<tr><td>パスワード</td><td><input id=\"pass\" name=\"password_mmlbbs6\" size=\"12\" type=\"password\"/></td></tr>\n",
      "<tr><td></td><td><input size=\"8\" type=\"submit\" value=\"ログイン\"/></td></tr>\n",
      "</table>\n",
      "<input name=\"back\" type=\"hidden\" value=\"index.php\"/>\n",
      "<input name=\"mml_id\" type=\"hidden\" value=\"0\"/>\n",
      "</form>\n",
      "<div> </div>\n",
      "<div style=\"padding-left:1em;\">\n",
      "<div><a href=\"users.php?action=useradd\">→新規ユーザー登録</a></div>\n",
      "<div><a href=\"users.php?action=forgot\">→パスワードを忘れた場合</a></div>\n",
      "</div>\n",
      "<br/>\n",
      "<div style=\"background-color:#f0f0f0; padding:10px;\">\n",
      "<div>※はじめて「uta.pw」をご利用の場合は、「<a href=\"users.php?action=useradd\">新規ユーザー登録</a>」をお願いします。</div>\n",
      "<div>※すみません、「サクラ曲掲示板」と互換性がありあせん。</div>\n",
      "</div>\n",
      "</div>\n",
      "<script type=\"text/javascript\">\n",
      "setTimeout(function (){\n",
      "  var user = document.getElementById(\"user\");\n",
      "  var pass = document.getElementById(\"pass\");\n",
      "  user.onchange = saveToLocal;\n",
      "  pass.onchange = saveToLocal;\n",
      "  if (user.value == \"\") loadFromLocal();\n",
      "  function saveToLocal() {\n",
      "    if (window.localStorage == undefined) return;\n",
      "    localStorage[\"bbs_user\"] = user.value;\n",
      "    localStorage[\"bbs_pass\"] = pass.value;\n",
      "  }\n",
      "  function loadFromLocal() {\n",
      "    if (window.localStorage == undefined) return;\n",
      "    if (localStorage.bbs_user == undefined) return;\n",
      "    user.value = localStorage.bbs_user;\n",
      "    pass.value = localStorage.bbs_pass;\n",
      "  }\n",
      "},100);\n",
      "</script>\n",
      "<div id=\"foot_copyright\">\n",
      "sakusibbs for <a href=\"http://uta.pw/\">uta.pw</a> by <a href=\"http://kujirahand.com\">kujirahand</a> (since 2010)\n",
      "[<a href=\"index.php?action=rss\">RSS<a></a>]\n",
      "<br>\n",
      "<br/><a href=\"http://uta.pw/support-bbs/mbbs.php\">感想や要望はこちらへ</a>\n",
      "</br></a></div>\n",
      "<!-- analytics -->\n",
      "<script>\n",
      "  (function(i,s,o,g,r,a,m){i['GoogleAnalyticsObject']=r;i[r]=i[r]||function(){\n",
      "  (i[r].q=i[r].q||[]).push(arguments)},i[r].l=1*new Date();a=s.createElement(o),\n",
      "  m=s.getElementsByTagName(o)[0];a.async=1;a.src=g;m.parentNode.insertBefore(a,m)\n",
      "  })(window,document,'script','//www.google-analytics.com/analytics.js','ga');\n",
      "\n",
      "  ga('create', 'UA-53904129-1', 'auto');\n",
      "  ga('send', 'pageview');\n",
      "\n",
      "</script>\n",
      "</div>\n",
      "</div><!-- end of body-main -->\n",
      "</body>\n",
      "</html>\n",
      "\n",
      "マイページが取得できませんでした\n"
     ]
    },
    {
     "ename": "AttributeError",
     "evalue": "'NoneType' object has no attribute 'attrs'",
     "output_type": "error",
     "traceback": [
      "\u001b[0;31m---------------------------------------------------------------------------\u001b[0m",
      "\u001b[0;31mAttributeError\u001b[0m                            Traceback (most recent call last)",
      "\u001b[0;32m<ipython-input-6-a64ecf474262>\u001b[0m in \u001b[0;36m<module>\u001b[0;34m\u001b[0m\n\u001b[1;32m      7\u001b[0m     \u001b[0mquit\u001b[0m\u001b[0;34m(\u001b[0m\u001b[0;34m)\u001b[0m\u001b[0;34m\u001b[0m\u001b[0;34m\u001b[0m\u001b[0m\n\u001b[1;32m      8\u001b[0m \u001b[0;31m# 相対URLを絶対URLに変換\u001b[0m\u001b[0;34m\u001b[0m\u001b[0;34m\u001b[0m\u001b[0;34m\u001b[0m\u001b[0m\n\u001b[0;32m----> 9\u001b[0;31m \u001b[0murl_mypage\u001b[0m \u001b[0;34m=\u001b[0m \u001b[0murljoin\u001b[0m\u001b[0;34m(\u001b[0m\u001b[0murl_login\u001b[0m\u001b[0;34m,\u001b[0m \u001b[0ma\u001b[0m\u001b[0;34m.\u001b[0m\u001b[0mattrs\u001b[0m\u001b[0;34m[\u001b[0m\u001b[0;34m\"href\"\u001b[0m\u001b[0;34m]\u001b[0m\u001b[0;34m)\u001b[0m\u001b[0;34m\u001b[0m\u001b[0;34m\u001b[0m\u001b[0m\n\u001b[0m\u001b[1;32m     10\u001b[0m \u001b[0mprint\u001b[0m\u001b[0;34m(\u001b[0m\u001b[0;34m\"マイページ =\"\u001b[0m\u001b[0;34m,\u001b[0m \u001b[0murl_mypage\u001b[0m\u001b[0;34m)\u001b[0m\u001b[0;34m\u001b[0m\u001b[0;34m\u001b[0m\u001b[0m\n",
      "\u001b[0;31mAttributeError\u001b[0m: 'NoneType' object has no attribute 'attrs'"
     ]
    }
   ],
   "source": [
    "# マイページのURLをピックアップする\n",
    "soup = BeautifulSoup(res.text, \"html.parser\")\n",
    "a = soup.select_one(\".islogin a\")\n",
    "print(soup)\n",
    "if a is None:\n",
    "    print(\"マイページが取得できませんでした\")\n",
    "    quit()\n",
    "# 相対URLを絶対URLに変換\n",
    "url_mypage = urljoin(url_login, a.attrs[\"href\"])\n",
    "print(\"マイページ =\", url_mypage)"
   ]
  },
  {
   "cell_type": "code",
   "execution_count": null,
   "metadata": {},
   "outputs": [],
   "source": []
  },
  {
   "cell_type": "code",
   "execution_count": 11,
   "metadata": {},
   "outputs": [
    {
     "data": {
      "text/plain": [
       "<requests.sessions.Session at 0x103212f10>"
      ]
     },
     "execution_count": 11,
     "metadata": {},
     "output_type": "execute_result"
    }
   ],
   "source": [
    "session"
   ]
  },
  {
   "cell_type": "code",
   "execution_count": 16,
   "metadata": {},
   "outputs": [
    {
     "data": {
      "text/plain": [
       "<Response [200]>"
      ]
     },
     "execution_count": 16,
     "metadata": {},
     "output_type": "execute_result"
    }
   ],
   "source": [
    "res"
   ]
  },
  {
   "cell_type": "code",
   "execution_count": null,
   "metadata": {},
   "outputs": [],
   "source": []
  },
  {
   "cell_type": "code",
   "execution_count": null,
   "metadata": {},
   "outputs": [],
   "source": []
  },
  {
   "cell_type": "code",
   "execution_count": null,
   "metadata": {},
   "outputs": [],
   "source": []
  },
  {
   "cell_type": "code",
   "execution_count": null,
   "metadata": {},
   "outputs": [],
   "source": []
  },
  {
   "cell_type": "code",
   "execution_count": null,
   "metadata": {},
   "outputs": [],
   "source": []
  },
  {
   "cell_type": "code",
   "execution_count": null,
   "metadata": {},
   "outputs": [],
   "source": []
  },
  {
   "cell_type": "code",
   "execution_count": null,
   "metadata": {},
   "outputs": [],
   "source": []
  },
  {
   "cell_type": "code",
   "execution_count": null,
   "metadata": {},
   "outputs": [],
   "source": []
  },
  {
   "cell_type": "code",
   "execution_count": null,
   "metadata": {},
   "outputs": [],
   "source": []
  },
  {
   "cell_type": "code",
   "execution_count": null,
   "metadata": {},
   "outputs": [],
   "source": []
  },
  {
   "cell_type": "code",
   "execution_count": null,
   "metadata": {},
   "outputs": [],
   "source": []
  },
  {
   "cell_type": "code",
   "execution_count": null,
   "metadata": {},
   "outputs": [],
   "source": []
  },
  {
   "cell_type": "code",
   "execution_count": null,
   "metadata": {},
   "outputs": [],
   "source": []
  },
  {
   "cell_type": "code",
   "execution_count": null,
   "metadata": {},
   "outputs": [],
   "source": []
  },
  {
   "cell_type": "code",
   "execution_count": null,
   "metadata": {},
   "outputs": [],
   "source": []
  },
  {
   "cell_type": "code",
   "execution_count": null,
   "metadata": {},
   "outputs": [],
   "source": []
  },
  {
   "cell_type": "code",
   "execution_count": null,
   "metadata": {},
   "outputs": [],
   "source": []
  },
  {
   "cell_type": "code",
   "execution_count": null,
   "metadata": {},
   "outputs": [],
   "source": []
  },
  {
   "cell_type": "code",
   "execution_count": null,
   "metadata": {},
   "outputs": [],
   "source": []
  },
  {
   "cell_type": "code",
   "execution_count": null,
   "metadata": {},
   "outputs": [],
   "source": []
  },
  {
   "cell_type": "code",
   "execution_count": null,
   "metadata": {},
   "outputs": [],
   "source": []
  },
  {
   "cell_type": "code",
   "execution_count": null,
   "metadata": {},
   "outputs": [],
   "source": []
  },
  {
   "cell_type": "code",
   "execution_count": null,
   "metadata": {},
   "outputs": [],
   "source": []
  },
  {
   "cell_type": "code",
   "execution_count": null,
   "metadata": {},
   "outputs": [],
   "source": []
  },
  {
   "cell_type": "code",
   "execution_count": null,
   "metadata": {},
   "outputs": [],
   "source": []
  },
  {
   "cell_type": "code",
   "execution_count": null,
   "metadata": {},
   "outputs": [],
   "source": []
  },
  {
   "cell_type": "code",
   "execution_count": null,
   "metadata": {},
   "outputs": [],
   "source": []
  },
  {
   "cell_type": "code",
   "execution_count": null,
   "metadata": {},
   "outputs": [],
   "source": []
  }
 ],
 "metadata": {
  "kernelspec": {
   "display_name": "Python 3",
   "language": "python",
   "name": "python3"
  },
  "language_info": {
   "codemirror_mode": {
    "name": "ipython",
    "version": 3
   },
   "file_extension": ".py",
   "mimetype": "text/x-python",
   "name": "python",
   "nbconvert_exporter": "python",
   "pygments_lexer": "ipython3",
   "version": "3.7.7"
  }
 },
 "nbformat": 4,
 "nbformat_minor": 4
}

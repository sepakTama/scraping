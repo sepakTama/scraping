{
 "cells": [
  {
   "cell_type": "markdown",
   "metadata": {},
   "source": [
    "# 日本語の解析(形態素解析)について"
   ]
  },
  {
   "cell_type": "markdown",
   "metadata": {},
   "source": [
    "## 形態素解析について  \n",
    "形態素解析(Morphological Analysis)とは、自然言語の文章を、意味を持つ最小の単位である「形態素」に分割し、品詞を判別する作業。系サイト解析は、機械翻訳やかな漢字変換、また、テキストマイニングなど、様々な分野で利用されている。"
   ]
  },
  {
   "cell_type": "markdown",
   "metadata": {},
   "source": [
    "## 代表的な形態素解析のライブラリ"
   ]
  },
  {
   "cell_type": "markdown",
   "metadata": {},
   "source": [
    "### 利用実績の多い定番ライブラリ「MeCab」  \n",
    "MeCabはCRF(Conditional Random Fields)を用いたパラメータ推定による形態素解析エンジンである。判別精度に加えて、実行速度が速いことも特徴である。"
   ]
  },
  {
   "cell_type": "code",
   "execution_count": 1,
   "metadata": {},
   "outputs": [],
   "source": [
    "import MeCab"
   ]
  },
  {
   "cell_type": "code",
   "execution_count": 11,
   "metadata": {},
   "outputs": [
    {
     "name": "stdout",
     "output_type": "stream",
     "text": [
      "庭\tニワ\tニワ\t庭\t名詞-普通名詞-一般\t\t\t0\n",
      "に\tニ\tニ\tに\t助詞-格助詞\t\t\t\n",
      "は\tワ\tハ\tは\t助詞-係助詞\t\t\t\n",
      "二\tフタ\tフタ\t二\t名詞-数詞\t\t\t2\n",
      "羽\tワ\tワ\t羽\t接尾辞-名詞的-助数詞\t\t\t\n",
      "鶏\tニワトリ\tニワトリ\t鶏\t名詞-普通名詞-一般\t\t\t0\n",
      "が\tガ\tガ\tが\t助詞-格助詞\t\t\t\n",
      "いる\tイル\tイル\t居る\t動詞-非自立可能\t上一段-ア行\t終止形-一般\t0\n",
      "。\t\t\t。\t補助記号-句点\t\t\t\n",
      "EOS\n",
      "\n"
     ]
    }
   ],
   "source": [
    "#mecab = MeCab.Tagger(\"-Ochasen\") # MeCabオブジェクトを生成\n",
    "mecab = MeCab.Tagger(\"\") # MeCabオブジェクトを生成\n",
    "malist = mecab.parse(\"庭には二羽鶏がいる。\") # 形態素解析を行う\n",
    "print(malist)"
   ]
  },
  {
   "cell_type": "markdown",
   "metadata": {},
   "source": [
    "### インストールがとにかく簡単なピュアPython解析器「Janome」"
   ]
  },
  {
   "cell_type": "code",
   "execution_count": 13,
   "metadata": {},
   "outputs": [],
   "source": [
    "from janome.tokenizer import Tokenizer"
   ]
  },
  {
   "cell_type": "code",
   "execution_count": 15,
   "metadata": {},
   "outputs": [
    {
     "name": "stdout",
     "output_type": "stream",
     "text": [
      "庭\t名詞,一般,*,*,*,*,庭,ニワ,ニワ\n",
      "に\t助詞,格助詞,一般,*,*,*,に,ニ,ニ\n",
      "は\t助詞,係助詞,*,*,*,*,は,ハ,ワ\n",
      "二\t名詞,数,*,*,*,*,二,ニ,ニ\n",
      "羽\t名詞,接尾,助数詞,*,*,*,羽,ワ,ワ\n",
      "鶏\t名詞,一般,*,*,*,*,鶏,ニワトリ,ニワトリ\n",
      "が\t助詞,格助詞,一般,*,*,*,が,ガ,ガ\n",
      "いる\t動詞,自立,*,*,一段,基本形,いる,イル,イル\n",
      "。\t記号,句点,*,*,*,*,。,。,。\n"
     ]
    }
   ],
   "source": [
    "t = Tokenizer()\n",
    "malist = t.tokenize(\"庭には二羽鶏がいる。\")\n",
    "for n in malist:\n",
    "    print(n)"
   ]
  },
  {
   "cell_type": "markdown",
   "metadata": {},
   "source": [
    "## 出現頻度の解析"
   ]
  },
  {
   "cell_type": "code",
   "execution_count": 16,
   "metadata": {},
   "outputs": [],
   "source": [
    "from janome.tokenizer import Tokenizer\n",
    "import zipfile\n",
    "import os.path, urllib.request as req"
   ]
  },
  {
   "cell_type": "code",
   "execution_count": 17,
   "metadata": {},
   "outputs": [
    {
     "name": "stdout",
     "output_type": "stream",
     "text": [
      "zipファイルをダウンロード\n"
     ]
    }
   ],
   "source": [
    "# 銀河鉄道の夜のzipファイルをダウンロード\n",
    "url = \"http://www.aozora.gr.jp/cards/000081/files/456_ruby_145.zip\"\n",
    "local = \"456_ruby_145.zip\"\n",
    "if not os.path.exists(local):\n",
    "    print(\"zipファイルをダウンロード\")\n",
    "    req.urlretrieve(url, local)"
   ]
  },
  {
   "cell_type": "code",
   "execution_count": 18,
   "metadata": {},
   "outputs": [],
   "source": [
    "# zipファイル内のテキストファイルを読む\n",
    "zf = zipfile.ZipFile(local, 'r') # zipファイルを読む\n",
    "fp = zf.open('gingatetsudono_yoru.txt', 'r') # アーカイブ内のテキストを読む\n",
    "bindata = fp.read()\n",
    "txt = bindata.decode('shift_jis') # テキストがShift_JISなのでデコード"
   ]
  },
  {
   "cell_type": "code",
   "execution_count": 21,
   "metadata": {},
   "outputs": [],
   "source": [
    "# 形態素解析オブジェクトの生成\n",
    "t = Tokenizer()"
   ]
  },
  {
   "cell_type": "code",
   "execution_count": 24,
   "metadata": {},
   "outputs": [],
   "source": [
    "# テキストを一行ずつ処理\n",
    "word_dic = {}\n",
    "lines = txt.split(\"\\r\\n\")\n",
    "for line in lines:\n",
    "    malist = t.tokenize(line)\n",
    "    for w in malist:\n",
    "        word = w.surface\n",
    "        ps = w.part_of_speech # 品詞\n",
    "        if ps.find('名詞') < 0:\n",
    "            continue # 名詞だけカウント\n",
    "        if not word in word_dic:\n",
    "            word_dic[word] = 0\n",
    "        word_dic[word] += 1"
   ]
  },
  {
   "cell_type": "code",
   "execution_count": 27,
   "metadata": {},
   "outputs": [
    {
     "name": "stdout",
     "output_type": "stream",
     "text": [
      "よう(209)の(206)ジョバンニ(190)人(102)カムパネルラ(101)ん(101)方(66)中(65)ぼく(59)それ(58)たち(56)みんな(54)二(53)一(47)何(46)ほんとう(45)鳥(45)どこ(43)こと(39)窓(39)汽車(39)前(38)そう(38)いま(38)眼(37)川(35)とき(35)僕(33)もの(32)たくさん(30)水(29)お(29)ら(29)青年(28)銀河(27)こっち(27)さっき(27)上(26)そこ(26)ろ(26)風(26)星(25)顔(25)向う(25)女の子(25)野原(24)お父さん(23)天の川(23)声(22)い(21)"
     ]
    }
   ],
   "source": [
    "# よく使われる単語を表示\n",
    "keys = sorted(word_dic.items(), key=lambda x:x[1], reverse=True)\n",
    "for word, cnt in keys[:50]:\n",
    "    print(\"{0}({1})\".format(word, cnt), end=\"\")"
   ]
  },
  {
   "cell_type": "code",
   "execution_count": null,
   "metadata": {},
   "outputs": [],
   "source": []
  },
  {
   "cell_type": "code",
   "execution_count": null,
   "metadata": {},
   "outputs": [],
   "source": []
  },
  {
   "cell_type": "code",
   "execution_count": null,
   "metadata": {},
   "outputs": [],
   "source": []
  },
  {
   "cell_type": "code",
   "execution_count": null,
   "metadata": {},
   "outputs": [],
   "source": []
  },
  {
   "cell_type": "code",
   "execution_count": null,
   "metadata": {},
   "outputs": [],
   "source": []
  },
  {
   "cell_type": "code",
   "execution_count": null,
   "metadata": {},
   "outputs": [],
   "source": []
  },
  {
   "cell_type": "code",
   "execution_count": null,
   "metadata": {},
   "outputs": [],
   "source": []
  },
  {
   "cell_type": "code",
   "execution_count": null,
   "metadata": {},
   "outputs": [],
   "source": []
  },
  {
   "cell_type": "code",
   "execution_count": null,
   "metadata": {},
   "outputs": [],
   "source": []
  },
  {
   "cell_type": "code",
   "execution_count": null,
   "metadata": {},
   "outputs": [],
   "source": []
  },
  {
   "cell_type": "code",
   "execution_count": null,
   "metadata": {},
   "outputs": [],
   "source": []
  },
  {
   "cell_type": "code",
   "execution_count": null,
   "metadata": {},
   "outputs": [],
   "source": []
  },
  {
   "cell_type": "code",
   "execution_count": null,
   "metadata": {},
   "outputs": [],
   "source": []
  },
  {
   "cell_type": "code",
   "execution_count": null,
   "metadata": {},
   "outputs": [],
   "source": []
  },
  {
   "cell_type": "code",
   "execution_count": null,
   "metadata": {},
   "outputs": [],
   "source": []
  },
  {
   "cell_type": "code",
   "execution_count": null,
   "metadata": {},
   "outputs": [],
   "source": []
  },
  {
   "cell_type": "code",
   "execution_count": null,
   "metadata": {},
   "outputs": [],
   "source": []
  },
  {
   "cell_type": "code",
   "execution_count": null,
   "metadata": {},
   "outputs": [],
   "source": []
  },
  {
   "cell_type": "code",
   "execution_count": null,
   "metadata": {},
   "outputs": [],
   "source": []
  },
  {
   "cell_type": "code",
   "execution_count": null,
   "metadata": {},
   "outputs": [],
   "source": []
  },
  {
   "cell_type": "code",
   "execution_count": null,
   "metadata": {},
   "outputs": [],
   "source": []
  },
  {
   "cell_type": "code",
   "execution_count": null,
   "metadata": {},
   "outputs": [],
   "source": []
  },
  {
   "cell_type": "code",
   "execution_count": null,
   "metadata": {},
   "outputs": [],
   "source": []
  },
  {
   "cell_type": "code",
   "execution_count": null,
   "metadata": {},
   "outputs": [],
   "source": []
  },
  {
   "cell_type": "code",
   "execution_count": null,
   "metadata": {},
   "outputs": [],
   "source": []
  },
  {
   "cell_type": "code",
   "execution_count": null,
   "metadata": {},
   "outputs": [],
   "source": []
  },
  {
   "cell_type": "code",
   "execution_count": null,
   "metadata": {},
   "outputs": [],
   "source": []
  },
  {
   "cell_type": "code",
   "execution_count": null,
   "metadata": {},
   "outputs": [],
   "source": []
  },
  {
   "cell_type": "code",
   "execution_count": null,
   "metadata": {},
   "outputs": [],
   "source": []
  },
  {
   "cell_type": "code",
   "execution_count": null,
   "metadata": {},
   "outputs": [],
   "source": []
  },
  {
   "cell_type": "code",
   "execution_count": null,
   "metadata": {},
   "outputs": [],
   "source": []
  },
  {
   "cell_type": "code",
   "execution_count": null,
   "metadata": {},
   "outputs": [],
   "source": []
  },
  {
   "cell_type": "code",
   "execution_count": null,
   "metadata": {},
   "outputs": [],
   "source": []
  },
  {
   "cell_type": "code",
   "execution_count": null,
   "metadata": {},
   "outputs": [],
   "source": []
  },
  {
   "cell_type": "code",
   "execution_count": null,
   "metadata": {},
   "outputs": [],
   "source": []
  },
  {
   "cell_type": "code",
   "execution_count": null,
   "metadata": {},
   "outputs": [],
   "source": []
  },
  {
   "cell_type": "code",
   "execution_count": null,
   "metadata": {},
   "outputs": [],
   "source": []
  },
  {
   "cell_type": "code",
   "execution_count": null,
   "metadata": {},
   "outputs": [],
   "source": []
  },
  {
   "cell_type": "code",
   "execution_count": null,
   "metadata": {},
   "outputs": [],
   "source": []
  },
  {
   "cell_type": "code",
   "execution_count": null,
   "metadata": {},
   "outputs": [],
   "source": []
  }
 ],
 "metadata": {
  "kernelspec": {
   "display_name": "Python 3",
   "language": "python",
   "name": "python3"
  },
  "language_info": {
   "codemirror_mode": {
    "name": "ipython",
    "version": 3
   },
   "file_extension": ".py",
   "mimetype": "text/x-python",
   "name": "python",
   "nbconvert_exporter": "python",
   "pygments_lexer": "ipython3",
   "version": "3.8.3"
  }
 },
 "nbformat": 4,
 "nbformat_minor": 4
}
